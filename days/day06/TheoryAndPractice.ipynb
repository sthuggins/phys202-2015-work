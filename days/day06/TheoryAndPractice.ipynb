{
 "cells": [
  {
   "cell_type": "markdown",
   "metadata": {},
   "source": [
    "# Theory and Practice of Visualization"
   ]
  },
  {
   "cell_type": "markdown",
   "metadata": {},
   "source": [
    "**Objective:** describe the theory and practice of effective, beautiful visualizations.\n",
    "\n",
    "This notebook describes some of the considerations that go into creating visualizations that are meant to communicate quantitative information."
   ]
  },
  {
   "cell_type": "markdown",
   "metadata": {},
   "source": [
    "\n",
    "## Tufte\n",
    "\n",
    "Edward Tufte has written a number of excellent books on these topics. The first and perhaps most significant of these is [The Visual Display of Quantitative Information](http://www.edwardtufte.com/tufte/). This notebook is mostly a summary of the main points contained in this book. His website has excellent discussions about these and other topics [here](http://www.edwardtufte.com/bboard/q-and-a?topic_id=1)\n",
    "\n",
    "### Graphical excellence\n",
    "\n",
    "On page 13:\n",
    "\n",
    "> Graphical displays should:\n",
    ">\n",
    "> * show the data\n",
    "> * induce the viewer to think about the substance rather than about methodology, graphic design,\n",
    ">   the technology of graphic production, or something else\n",
    "> * avoid distorting what the data have to say\n",
    "> * present many numbers in a small space\n",
    "> * make large data sets coherant\n",
    "> * encourage the eye to compare different pieces of data\n",
    "> * reveal the data at several levels of detail, from a broad overview to the fine structure\n",
    "> * serve a reasonably clear purpose: description, exploration, tabulation, or decoration\n",
    "> * be closely integrated with the statistical and verbal descriptions of a dta set.\n",
    "\n",
    "On page 51:\n",
    "\n",
    "> Graphical excellence...\n",
    "\n",
    "> * is the well-designed presentation of interesting data--a matter\n",
    ">   of *sustance*, of *statistics*, and of *design*.\n",
    "> * consists of complex ideas communicated with clarity, precision, and efficiency.\n",
    "> * is that which gives to the viewer the greatest number of ideas in the\n",
    ">   shortest time with the least ink in the smallest space.\n",
    "> * is nearly always multivariate\n",
    "> * requires telling the truth about the data\n"
   ]
  },
  {
   "cell_type": "markdown",
   "metadata": {},
   "source": [
    "### Graphical integrity\n",
    "\n",
    "On page 57:\n",
    "\n",
    "> Lie Factor = (size of effect shown in graphic)/(size of effect in data)\n",
    "\n",
    "One page 77:\n",
    "\n",
    "> Graphical integrity is more likely to result if these principles are followed:\n",
    ">\n",
    "> * The representation of numbers, as physically measured on the surface of the graphic\n",
    ">   itself, should be directly proportional to the numerical quantities represented.\n",
    "> * Clear, detailed, and thorough labeling should be used to defeat graphical distortion and\n",
    ">   ambiguity. Write out explanations of the data on the graphic itself. Label important events\n",
    ">   in the data.\n",
    "> * Show data variation, not design variation.\n",
    "> * ...\n",
    "> * The number of information-carrying (variable) dimensions depicted should not exceed the\n",
    ">   number of dimensions in the data.\n",
    "> * Graphics must not quote the data out of context."
   ]
  },
  {
   "cell_type": "markdown",
   "metadata": {},
   "source": [
    "### Data-ink\n",
    "\n",
    "On page 92:\n",
    "\n",
    "> Data-ink ratio = (data-ink)/(total ink used to print the graphic)\n",
    "> = proportion of a graphic's ink devoted to the non-redundant display of\n",
    "> data-information\n",
    "\n",
    "On page 105:\n",
    "\n",
    "> * Above all else show the data.\n",
    "> * Maximize the data-ink ratio, within reason.\n",
    "> * Erase non-data-ink, within reason.\n",
    "> * Erase redundant data-ink, within reason.\n",
    "> * Revise and edit."
   ]
  },
  {
   "cell_type": "markdown",
   "metadata": {},
   "source": [
    "### Chartjunk\n",
    "\n",
    "On page 121:\n",
    "\n",
    "> Forgo chartjunk, including moire' vibration, the grid, and the duck."
   ]
  },
  {
   "cell_type": "markdown",
   "metadata": {},
   "source": [
    "### Multifunctioning graphical elements\n",
    "\n",
    "On page 139:\n",
    "\n",
    "> Mobilize every graphical element, perhaps several times over to show the data"
   ]
  }
 ],
 "metadata": {
  "kernelspec": {
   "display_name": "Python 3",
   "language": "python",
   "name": "python3"
  },
  "language_info": {
   "codemirror_mode": {
    "name": "ipython",
    "version": 3
   },
   "file_extension": ".py",
   "mimetype": "text/x-python",
   "name": "python",
   "nbconvert_exporter": "python",
   "pygments_lexer": "ipython3",
   "version": "3.4.0"
  }
 },
 "nbformat": 4,
 "nbformat_minor": 0
}
