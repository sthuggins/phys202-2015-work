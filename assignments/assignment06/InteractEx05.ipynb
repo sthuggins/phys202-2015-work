{
 "cells": [
  {
   "cell_type": "markdown",
   "metadata": {
    "nbgrader": {}
   },
   "source": [
    "# Interact Exercise 5"
   ]
  },
  {
   "cell_type": "markdown",
   "metadata": {
    "nbgrader": {}
   },
   "source": [
    "## Imports"
   ]
  },
  {
   "cell_type": "markdown",
   "metadata": {
    "nbgrader": {}
   },
   "source": [
    "Put the standard imports for Matplotlib, Numpy and the IPython widgets in the following cell."
   ]
  },
  {
   "cell_type": "code",
   "execution_count": null,
   "metadata": {
    "collapsed": false,
    "deletable": false,
    "nbgrader": {
     "checksum": "6cff4e8e53b15273846c3aecaea84a3d",
     "solution": true
    }
   },
   "outputs": [],
   "source": [
    "# YOUR CODE HERE\n",
    "raise NotImplementedError()"
   ]
  },
  {
   "cell_type": "markdown",
   "metadata": {
    "nbgrader": {}
   },
   "source": [
    "## Interact with SVG display"
   ]
  },
  {
   "cell_type": "markdown",
   "metadata": {
    "nbgrader": {}
   },
   "source": [
    "[SVG](http://en.wikipedia.org/wiki/Scalable_Vector_Graphics) is a simple way of drawing vector graphics in the browser. Here is a simple example of how SVG can be used to draw a circle in the Notebook:"
   ]
  },
  {
   "cell_type": "code",
   "execution_count": null,
   "metadata": {
    "collapsed": false,
    "nbgrader": {}
   },
   "outputs": [],
   "source": [
    "s = \"\"\"\n",
    "<svg width=\"100\" height=\"100\">\n",
    "  <circle cx=\"50\" cy=\"50\" r=\"20\" fill=\"aquamarine\" />\n",
    "</svg>\n",
    "\"\"\""
   ]
  },
  {
   "cell_type": "code",
   "execution_count": null,
   "metadata": {
    "collapsed": false,
    "nbgrader": {}
   },
   "outputs": [],
   "source": [
    "SVG(s)"
   ]
  },
  {
   "cell_type": "markdown",
   "metadata": {
    "nbgrader": {}
   },
   "source": [
    "Write a function named `draw_circle` that draws a circle using SVG. Your function should take the parameters of the circle  as function arguments and have defaults as shown. You will have to write the raw SVG code as a Python string and then use the `IPython.display.SVG` object and `IPython.display.display` function."
   ]
  },
  {
   "cell_type": "code",
   "execution_count": null,
   "metadata": {
    "collapsed": false,
    "nbgrader": {
     "checksum": "ff346dfaabec3ce8812bb0d03cf3951b",
     "solution": true
    }
   },
   "outputs": [],
   "source": [
    "def draw_circle(width=100, height=100, cx=25, cy=25, r=5, fill='red'):\n",
    "    \"\"\"Draw an SVG circle.\n",
    "    \n",
    "    Parameters\n",
    "    ----------\n",
    "    width : int\n",
    "        The width of the svg drawing area in px.\n",
    "    height : int\n",
    "        The height of the svg drawing area in px.\n",
    "    cx : int\n",
    "        The x position of the center of the circle in px.\n",
    "    cy : int\n",
    "        The y position of the center of the circle in px.\n",
    "    r : int\n",
    "        The radius of the circle in px.\n",
    "    fill : str\n",
    "        The fill color of the circle.\n",
    "    \"\"\"\n",
    "    # YOUR CODE HERE\n",
    "    raise NotImplementedError()"
   ]
  },
  {
   "cell_type": "code",
   "execution_count": null,
   "metadata": {
    "collapsed": false,
    "nbgrader": {}
   },
   "outputs": [],
   "source": [
    "draw_circle(cx=10, cy=10, r=10, fill='blue')"
   ]
  },
  {
   "cell_type": "code",
   "execution_count": null,
   "metadata": {
    "collapsed": true,
    "deletable": false,
    "nbgrader": {
     "checksum": "6d760b87a2567cb9b9c7a9e2825cacfa",
     "grade": true,
     "grade_id": "interactex05a",
     "points": 4
    }
   },
   "outputs": [],
   "source": [
    "assert True # leave this to grade the draw_circle function"
   ]
  },
  {
   "cell_type": "markdown",
   "metadata": {
    "nbgrader": {}
   },
   "source": [
    "Use `interactive` to build a user interface for exploing the `draw_circle` function:\n",
    "\n",
    "* `width`: a fixed value of 300px\n",
    "* `height`: a fixed value of 300px\n",
    "* `cx`/`cy`: a slider in the range [0,300]\n",
    "* `r`: a slider in the range [0,50]\n",
    "* `fill`: a text area in which you can type a color's name\n",
    "\n",
    "Save the return value of `interactive` to a variable named `w`."
   ]
  },
  {
   "cell_type": "code",
   "execution_count": null,
   "metadata": {
    "collapsed": false,
    "deletable": false,
    "nbgrader": {
     "checksum": "6cff4e8e53b15273846c3aecaea84a3d",
     "solution": true
    }
   },
   "outputs": [],
   "source": [
    "# YOUR CODE HERE\n",
    "raise NotImplementedError()"
   ]
  },
  {
   "cell_type": "code",
   "execution_count": null,
   "metadata": {
    "collapsed": false,
    "deletable": false,
    "nbgrader": {
     "checksum": "5993721946f31406b1b7aac42ddd5ce4",
     "grade": true,
     "grade_id": "interactex05b",
     "points": 4
    }
   },
   "outputs": [],
   "source": [
    "c = w.children\n",
    "assert c[0].min==0 and c[0].max==300\n",
    "assert c[1].min==0 and c[1].max==300\n",
    "assert c[2].min==0 and c[2].max==50\n",
    "assert c[3].value=='red'"
   ]
  },
  {
   "cell_type": "markdown",
   "metadata": {
    "nbgrader": {}
   },
   "source": [
    "Use the `display` function to show the widgets created by `interactive`:"
   ]
  },
  {
   "cell_type": "code",
   "execution_count": null,
   "metadata": {
    "collapsed": false,
    "deletable": false,
    "nbgrader": {
     "checksum": "6cff4e8e53b15273846c3aecaea84a3d",
     "solution": true
    }
   },
   "outputs": [],
   "source": [
    "# YOUR CODE HERE\n",
    "raise NotImplementedError()"
   ]
  },
  {
   "cell_type": "code",
   "execution_count": null,
   "metadata": {
    "collapsed": true,
    "deletable": false,
    "nbgrader": {
     "checksum": "eeb509517655f5e40f0bbf0ae8705e72",
     "grade": true,
     "grade_id": "interactex05c",
     "points": 2
    }
   },
   "outputs": [],
   "source": [
    "assert True # leave this to grade the display of the widget"
   ]
  },
  {
   "cell_type": "markdown",
   "metadata": {
    "nbgrader": {}
   },
   "source": [
    "Play with the sliders to change the circles parameters interactively."
   ]
  }
 ],
 "metadata": {
  "kernelspec": {
   "display_name": "Python 3",
   "language": "python",
   "name": "python3"
  },
  "language_info": {
   "codemirror_mode": {
    "name": "ipython",
    "version": 3
   },
   "file_extension": ".py",
   "mimetype": "text/x-python",
   "name": "python",
   "nbconvert_exporter": "python",
   "pygments_lexer": "ipython3",
   "version": "3.4.0"
  }
 },
 "nbformat": 4,
 "nbformat_minor": 0
}