{
 "cells": [
  {
   "cell_type": "markdown",
   "metadata": {
    "nbgrader": {}
   },
   "source": [
    "# Matplotlib Exercise 1"
   ]
  },
  {
   "cell_type": "markdown",
   "metadata": {
    "nbgrader": {}
   },
   "source": [
    "## Imports"
   ]
  },
  {
   "cell_type": "code",
   "execution_count": 1,
   "metadata": {
    "collapsed": true,
    "nbgrader": {}
   },
   "outputs": [],
   "source": [
    "%matplotlib inline\n",
    "import matplotlib.pyplot as plt\n",
    "import numpy as np"
   ]
  },
  {
   "cell_type": "markdown",
   "metadata": {
    "collapsed": true,
    "nbgrader": {}
   },
   "source": [
    "## Line plot of sunspot data"
   ]
  },
  {
   "cell_type": "markdown",
   "metadata": {
    "nbgrader": {}
   },
   "source": [
    "Download the `.txt` data for the \"Yearly mean total sunspot number [1700 - now]\" from the [SILSO](http://www.sidc.be/silso/datafiles) website. Upload the file to the same directory as this notebook."
   ]
  },
  {
   "cell_type": "code",
   "execution_count": 2,
   "metadata": {
    "collapsed": true,
    "deletable": false,
    "nbgrader": {
     "checksum": "7f8ea13f251ef02c216ed08cad6516a7",
     "grade": true,
     "grade_id": "matplotlibex01a",
     "points": 1
    }
   },
   "outputs": [],
   "source": [
    "import os\n",
    "assert os.path.isfile('yearssn.dat')"
   ]
  },
  {
   "cell_type": "markdown",
   "metadata": {
    "nbgrader": {}
   },
   "source": [
    "Use `np.loadtxt` to read the data into a NumPy array called `data`. Then create two new 1d NumPy arrays named `years` and `ssc` that have the sequence of year and sunspot counts."
   ]
  },
  {
   "cell_type": "code",
   "execution_count": 7,
   "metadata": {
    "collapsed": true,
    "deletable": false,
    "nbgrader": {
     "checksum": "6cff4e8e53b15273846c3aecaea84a3d",
     "solution": true
    }
   },
   "outputs": [
    {
     "data": {
      "text/plain": [
       "array([[  1.70050000e+03,   5.00000000e+00],\n",
       "       [  1.70150000e+03,   1.10000000e+01],\n",
       "       [  1.70250000e+03,   1.60000000e+01],\n",
       "       [  1.70350000e+03,   2.30000000e+01],\n",
       "       [  1.70450000e+03,   3.60000000e+01],\n",
       "       [  1.70550000e+03,   5.80000000e+01],\n",
       "       [  1.70650000e+03,   2.90000000e+01],\n",
       "       [  1.70750000e+03,   2.00000000e+01],\n",
       "       [  1.70850000e+03,   1.00000000e+01],\n",
       "       [  1.70950000e+03,   8.00000000e+00],\n",
       "       [  1.71050000e+03,   3.00000000e+00],\n",
       "       [  1.71150000e+03,   0.00000000e+00],\n",
       "       [  1.71250000e+03,   0.00000000e+00],\n",
       "       [  1.71350000e+03,   2.00000000e+00],\n",
       "       [  1.71450000e+03,   1.10000000e+01],\n",
       "       [  1.71550000e+03,   2.70000000e+01],\n",
       "       [  1.71650000e+03,   4.70000000e+01],\n",
       "       [  1.71750000e+03,   6.30000000e+01],\n",
       "       [  1.71850000e+03,   6.00000000e+01],\n",
       "       [  1.71950000e+03,   3.90000000e+01],\n",
       "       [  1.72050000e+03,   2.80000000e+01],\n",
       "       [  1.72150000e+03,   2.60000000e+01],\n",
       "       [  1.72250000e+03,   2.20000000e+01],\n",
       "       [  1.72350000e+03,   1.10000000e+01],\n",
       "       [  1.72450000e+03,   2.10000000e+01],\n",
       "       [  1.72550000e+03,   4.00000000e+01],\n",
       "       [  1.72650000e+03,   7.80000000e+01],\n",
       "       [  1.72750000e+03,   1.22000000e+02],\n",
       "       [  1.72850000e+03,   1.03000000e+02],\n",
       "       [  1.72950000e+03,   7.30000000e+01],\n",
       "       [  1.73050000e+03,   4.70000000e+01],\n",
       "       [  1.73150000e+03,   3.50000000e+01],\n",
       "       [  1.73250000e+03,   1.10000000e+01],\n",
       "       [  1.73350000e+03,   5.00000000e+00],\n",
       "       [  1.73450000e+03,   1.60000000e+01],\n",
       "       [  1.73550000e+03,   3.40000000e+01],\n",
       "       [  1.73650000e+03,   7.00000000e+01],\n",
       "       [  1.73750000e+03,   8.10000000e+01],\n",
       "       [  1.73850000e+03,   1.11000000e+02],\n",
       "       [  1.73950000e+03,   1.01000000e+02],\n",
       "       [  1.74050000e+03,   7.30000000e+01],\n",
       "       [  1.74150000e+03,   4.00000000e+01],\n",
       "       [  1.74250000e+03,   2.00000000e+01],\n",
       "       [  1.74350000e+03,   1.60000000e+01],\n",
       "       [  1.74450000e+03,   5.00000000e+00],\n",
       "       [  1.74550000e+03,   1.10000000e+01],\n",
       "       [  1.74650000e+03,   2.20000000e+01],\n",
       "       [  1.74750000e+03,   4.00000000e+01],\n",
       "       [  1.74850000e+03,   6.00000000e+01],\n",
       "       [  1.74950000e+03,   8.09000000e+01],\n",
       "       [  1.75050000e+03,   8.34000000e+01],\n",
       "       [  1.75150000e+03,   4.77000000e+01],\n",
       "       [  1.75250000e+03,   4.78000000e+01],\n",
       "       [  1.75350000e+03,   3.07000000e+01],\n",
       "       [  1.75450000e+03,   1.22000000e+01],\n",
       "       [  1.75550000e+03,   9.60000000e+00],\n",
       "       [  1.75650000e+03,   1.02000000e+01],\n",
       "       [  1.75750000e+03,   3.24000000e+01],\n",
       "       [  1.75850000e+03,   4.76000000e+01],\n",
       "       [  1.75950000e+03,   5.40000000e+01],\n",
       "       [  1.76050000e+03,   6.29000000e+01],\n",
       "       [  1.76150000e+03,   8.59000000e+01],\n",
       "       [  1.76250000e+03,   6.12000000e+01],\n",
       "       [  1.76350000e+03,   4.51000000e+01],\n",
       "       [  1.76450000e+03,   3.64000000e+01],\n",
       "       [  1.76550000e+03,   2.09000000e+01],\n",
       "       [  1.76650000e+03,   1.14000000e+01],\n",
       "       [  1.76750000e+03,   3.78000000e+01],\n",
       "       [  1.76850000e+03,   6.98000000e+01],\n",
       "       [  1.76950000e+03,   1.06100000e+02],\n",
       "       [  1.77050000e+03,   1.00800000e+02],\n",
       "       [  1.77150000e+03,   8.16000000e+01],\n",
       "       [  1.77250000e+03,   6.65000000e+01],\n",
       "       [  1.77350000e+03,   3.48000000e+01],\n",
       "       [  1.77450000e+03,   3.06000000e+01],\n",
       "       [  1.77550000e+03,   7.00000000e+00],\n",
       "       [  1.77650000e+03,   1.98000000e+01],\n",
       "       [  1.77750000e+03,   9.25000000e+01],\n",
       "       [  1.77850000e+03,   1.54400000e+02],\n",
       "       [  1.77950000e+03,   1.25900000e+02],\n",
       "       [  1.78050000e+03,   8.48000000e+01],\n",
       "       [  1.78150000e+03,   6.81000000e+01],\n",
       "       [  1.78250000e+03,   3.85000000e+01],\n",
       "       [  1.78350000e+03,   2.28000000e+01],\n",
       "       [  1.78450000e+03,   1.02000000e+01],\n",
       "       [  1.78550000e+03,   2.41000000e+01],\n",
       "       [  1.78650000e+03,   8.29000000e+01],\n",
       "       [  1.78750000e+03,   1.32000000e+02],\n",
       "       [  1.78850000e+03,   1.30900000e+02],\n",
       "       [  1.78950000e+03,   1.18100000e+02],\n",
       "       [  1.79050000e+03,   8.99000000e+01],\n",
       "       [  1.79150000e+03,   6.66000000e+01],\n",
       "       [  1.79250000e+03,   6.00000000e+01],\n",
       "       [  1.79350000e+03,   4.69000000e+01],\n",
       "       [  1.79450000e+03,   4.10000000e+01],\n",
       "       [  1.79550000e+03,   2.13000000e+01],\n",
       "       [  1.79650000e+03,   1.60000000e+01],\n",
       "       [  1.79750000e+03,   6.40000000e+00],\n",
       "       [  1.79850000e+03,   4.10000000e+00],\n",
       "       [  1.79950000e+03,   6.80000000e+00],\n",
       "       [  1.80050000e+03,   1.45000000e+01],\n",
       "       [  1.80150000e+03,   3.40000000e+01],\n",
       "       [  1.80250000e+03,   4.50000000e+01],\n",
       "       [  1.80350000e+03,   4.31000000e+01],\n",
       "       [  1.80450000e+03,   4.75000000e+01],\n",
       "       [  1.80550000e+03,   4.22000000e+01],\n",
       "       [  1.80650000e+03,   2.81000000e+01],\n",
       "       [  1.80750000e+03,   1.01000000e+01],\n",
       "       [  1.80850000e+03,   8.10000000e+00],\n",
       "       [  1.80950000e+03,   2.50000000e+00],\n",
       "       [  1.81050000e+03,   0.00000000e+00],\n",
       "       [  1.81150000e+03,   1.40000000e+00],\n",
       "       [  1.81250000e+03,   5.00000000e+00],\n",
       "       [  1.81350000e+03,   1.22000000e+01],\n",
       "       [  1.81450000e+03,   1.39000000e+01],\n",
       "       [  1.81550000e+03,   3.54000000e+01],\n",
       "       [  1.81650000e+03,   4.58000000e+01],\n",
       "       [  1.81750000e+03,   4.10000000e+01],\n",
       "       [  1.81850000e+03,   3.01000000e+01],\n",
       "       [  1.81950000e+03,   2.39000000e+01],\n",
       "       [  1.82050000e+03,   1.56000000e+01],\n",
       "       [  1.82150000e+03,   6.60000000e+00],\n",
       "       [  1.82250000e+03,   4.00000000e+00],\n",
       "       [  1.82350000e+03,   1.80000000e+00],\n",
       "       [  1.82450000e+03,   8.50000000e+00],\n",
       "       [  1.82550000e+03,   1.66000000e+01],\n",
       "       [  1.82650000e+03,   3.63000000e+01],\n",
       "       [  1.82750000e+03,   4.96000000e+01],\n",
       "       [  1.82850000e+03,   6.42000000e+01],\n",
       "       [  1.82950000e+03,   6.70000000e+01],\n",
       "       [  1.83050000e+03,   7.09000000e+01],\n",
       "       [  1.83150000e+03,   4.78000000e+01],\n",
       "       [  1.83250000e+03,   2.75000000e+01],\n",
       "       [  1.83350000e+03,   8.50000000e+00],\n",
       "       [  1.83450000e+03,   1.32000000e+01],\n",
       "       [  1.83550000e+03,   5.69000000e+01],\n",
       "       [  1.83650000e+03,   1.21500000e+02],\n",
       "       [  1.83750000e+03,   1.38300000e+02],\n",
       "       [  1.83850000e+03,   1.03200000e+02],\n",
       "       [  1.83950000e+03,   8.57000000e+01],\n",
       "       [  1.84050000e+03,   6.46000000e+01],\n",
       "       [  1.84150000e+03,   3.67000000e+01],\n",
       "       [  1.84250000e+03,   2.42000000e+01],\n",
       "       [  1.84350000e+03,   1.07000000e+01],\n",
       "       [  1.84450000e+03,   1.50000000e+01],\n",
       "       [  1.84550000e+03,   4.01000000e+01],\n",
       "       [  1.84650000e+03,   6.15000000e+01],\n",
       "       [  1.84750000e+03,   9.85000000e+01],\n",
       "       [  1.84850000e+03,   1.24700000e+02],\n",
       "       [  1.84950000e+03,   9.61000000e+01],\n",
       "       [  1.85050000e+03,   6.65000000e+01],\n",
       "       [  1.85150000e+03,   6.42000000e+01],\n",
       "       [  1.85250000e+03,   5.41000000e+01],\n",
       "       [  1.85350000e+03,   3.90000000e+01],\n",
       "       [  1.85450000e+03,   2.05000000e+01],\n",
       "       [  1.85550000e+03,   6.70000000e+00],\n",
       "       [  1.85650000e+03,   4.30000000e+00],\n",
       "       [  1.85750000e+03,   2.28000000e+01],\n",
       "       [  1.85850000e+03,   5.50000000e+01],\n",
       "       [  1.85950000e+03,   9.39000000e+01],\n",
       "       [  1.86050000e+03,   9.59000000e+01],\n",
       "       [  1.86150000e+03,   7.72000000e+01],\n",
       "       [  1.86250000e+03,   5.90000000e+01],\n",
       "       [  1.86350000e+03,   4.40000000e+01],\n",
       "       [  1.86450000e+03,   4.70000000e+01],\n",
       "       [  1.86550000e+03,   3.04000000e+01],\n",
       "       [  1.86650000e+03,   1.62000000e+01],\n",
       "       [  1.86750000e+03,   7.30000000e+00],\n",
       "       [  1.86850000e+03,   3.76000000e+01],\n",
       "       [  1.86950000e+03,   7.41000000e+01],\n",
       "       [  1.87050000e+03,   1.39100000e+02],\n",
       "       [  1.87150000e+03,   1.11100000e+02],\n",
       "       [  1.87250000e+03,   1.01400000e+02],\n",
       "       [  1.87350000e+03,   6.60000000e+01],\n",
       "       [  1.87450000e+03,   4.46000000e+01],\n",
       "       [  1.87550000e+03,   1.70000000e+01],\n",
       "       [  1.87650000e+03,   1.13000000e+01],\n",
       "       [  1.87750000e+03,   1.24000000e+01],\n",
       "       [  1.87850000e+03,   3.40000000e+00],\n",
       "       [  1.87950000e+03,   6.00000000e+00],\n",
       "       [  1.88050000e+03,   3.22000000e+01],\n",
       "       [  1.88150000e+03,   5.43000000e+01],\n",
       "       [  1.88250000e+03,   5.94000000e+01],\n",
       "       [  1.88350000e+03,   6.37000000e+01],\n",
       "       [  1.88450000e+03,   6.35000000e+01],\n",
       "       [  1.88550000e+03,   5.18000000e+01],\n",
       "       [  1.88650000e+03,   2.55000000e+01],\n",
       "       [  1.88750000e+03,   1.31000000e+01],\n",
       "       [  1.88850000e+03,   6.70000000e+00],\n",
       "       [  1.88950000e+03,   6.20000000e+00],\n",
       "       [  1.89050000e+03,   7.10000000e+00],\n",
       "       [  1.89150000e+03,   3.57000000e+01],\n",
       "       [  1.89250000e+03,   7.30000000e+01],\n",
       "       [  1.89350000e+03,   8.52000000e+01],\n",
       "       [  1.89450000e+03,   7.80000000e+01],\n",
       "       [  1.89550000e+03,   6.39000000e+01],\n",
       "       [  1.89650000e+03,   4.17000000e+01],\n",
       "       [  1.89750000e+03,   2.62000000e+01],\n",
       "       [  1.89850000e+03,   2.67000000e+01],\n",
       "       [  1.89950000e+03,   1.21000000e+01],\n",
       "       [  1.90050000e+03,   9.40000000e+00],\n",
       "       [  1.90150000e+03,   2.70000000e+00],\n",
       "       [  1.90250000e+03,   5.10000000e+00],\n",
       "       [  1.90350000e+03,   2.44000000e+01],\n",
       "       [  1.90450000e+03,   4.21000000e+01],\n",
       "       [  1.90550000e+03,   6.33000000e+01],\n",
       "       [  1.90650000e+03,   5.41000000e+01],\n",
       "       [  1.90750000e+03,   6.17000000e+01],\n",
       "       [  1.90850000e+03,   4.85000000e+01],\n",
       "       [  1.90950000e+03,   4.39000000e+01],\n",
       "       [  1.91050000e+03,   1.85000000e+01],\n",
       "       [  1.91150000e+03,   5.70000000e+00],\n",
       "       [  1.91250000e+03,   3.60000000e+00],\n",
       "       [  1.91350000e+03,   1.40000000e+00],\n",
       "       [  1.91450000e+03,   9.60000000e+00],\n",
       "       [  1.91550000e+03,   4.74000000e+01],\n",
       "       [  1.91650000e+03,   5.70000000e+01],\n",
       "       [  1.91750000e+03,   1.04200000e+02],\n",
       "       [  1.91850000e+03,   8.08000000e+01],\n",
       "       [  1.91950000e+03,   6.35000000e+01],\n",
       "       [  1.92050000e+03,   3.76000000e+01],\n",
       "       [  1.92150000e+03,   2.61000000e+01],\n",
       "       [  1.92250000e+03,   1.42000000e+01],\n",
       "       [  1.92350000e+03,   5.80000000e+00],\n",
       "       [  1.92450000e+03,   1.67000000e+01],\n",
       "       [  1.92550000e+03,   4.44000000e+01],\n",
       "       [  1.92650000e+03,   6.39000000e+01],\n",
       "       [  1.92750000e+03,   6.88000000e+01],\n",
       "       [  1.92850000e+03,   7.78000000e+01],\n",
       "       [  1.92950000e+03,   6.49000000e+01],\n",
       "       [  1.93050000e+03,   3.56000000e+01],\n",
       "       [  1.93150000e+03,   2.11000000e+01],\n",
       "       [  1.93250000e+03,   1.11000000e+01],\n",
       "       [  1.93350000e+03,   5.50000000e+00],\n",
       "       [  1.93450000e+03,   8.70000000e+00],\n",
       "       [  1.93550000e+03,   3.61000000e+01],\n",
       "       [  1.93650000e+03,   7.97000000e+01],\n",
       "       [  1.93750000e+03,   1.14400000e+02],\n",
       "       [  1.93850000e+03,   1.09600000e+02],\n",
       "       [  1.93950000e+03,   8.88000000e+01],\n",
       "       [  1.94050000e+03,   6.78000000e+01],\n",
       "       [  1.94150000e+03,   4.75000000e+01],\n",
       "       [  1.94250000e+03,   3.04000000e+01],\n",
       "       [  1.94350000e+03,   1.63000000e+01],\n",
       "       [  1.94450000e+03,   9.70000000e+00],\n",
       "       [  1.94550000e+03,   3.32000000e+01],\n",
       "       [  1.94650000e+03,   9.26000000e+01],\n",
       "       [  1.94750000e+03,   1.51600000e+02],\n",
       "       [  1.94850000e+03,   1.36300000e+02],\n",
       "       [  1.94950000e+03,   1.34700000e+02],\n",
       "       [  1.95050000e+03,   8.39000000e+01],\n",
       "       [  1.95150000e+03,   6.94000000e+01],\n",
       "       [  1.95250000e+03,   3.15000000e+01],\n",
       "       [  1.95350000e+03,   1.39000000e+01],\n",
       "       [  1.95450000e+03,   4.40000000e+00],\n",
       "       [  1.95550000e+03,   3.80000000e+01],\n",
       "       [  1.95650000e+03,   1.41700000e+02],\n",
       "       [  1.95750000e+03,   1.90200000e+02],\n",
       "       [  1.95850000e+03,   1.84800000e+02],\n",
       "       [  1.95950000e+03,   1.59000000e+02],\n",
       "       [  1.96050000e+03,   1.12300000e+02],\n",
       "       [  1.96150000e+03,   5.39000000e+01],\n",
       "       [  1.96250000e+03,   3.75000000e+01],\n",
       "       [  1.96350000e+03,   2.79000000e+01],\n",
       "       [  1.96450000e+03,   1.02000000e+01],\n",
       "       [  1.96550000e+03,   1.51000000e+01],\n",
       "       [  1.96650000e+03,   4.70000000e+01],\n",
       "       [  1.96750000e+03,   9.38000000e+01],\n",
       "       [  1.96850000e+03,   1.05900000e+02],\n",
       "       [  1.96950000e+03,   1.05500000e+02],\n",
       "       [  1.97050000e+03,   1.04500000e+02],\n",
       "       [  1.97150000e+03,   6.66000000e+01],\n",
       "       [  1.97250000e+03,   6.89000000e+01],\n",
       "       [  1.97350000e+03,   3.80000000e+01],\n",
       "       [  1.97450000e+03,   3.45000000e+01],\n",
       "       [  1.97550000e+03,   1.55000000e+01],\n",
       "       [  1.97650000e+03,   1.26000000e+01],\n",
       "       [  1.97750000e+03,   2.75000000e+01],\n",
       "       [  1.97850000e+03,   9.25000000e+01],\n",
       "       [  1.97950000e+03,   1.55400000e+02],\n",
       "       [  1.98050000e+03,   1.54600000e+02],\n",
       "       [  1.98150000e+03,   1.40500000e+02],\n",
       "       [  1.98250000e+03,   1.15900000e+02],\n",
       "       [  1.98350000e+03,   6.68000000e+01],\n",
       "       [  1.98450000e+03,   4.57000000e+01],\n",
       "       [  1.98550000e+03,   1.80000000e+01],\n",
       "       [  1.98650000e+03,   1.34000000e+01],\n",
       "       [  1.98750000e+03,   2.94000000e+01],\n",
       "       [  1.98850000e+03,   1.00200000e+02],\n",
       "       [  1.98950000e+03,   1.57600000e+02],\n",
       "       [  1.99050000e+03,   1.42600000e+02],\n",
       "       [  1.99150000e+03,   1.45700000e+02],\n",
       "       [  1.99250000e+03,   9.43000000e+01],\n",
       "       [  1.99350000e+03,   5.46000000e+01],\n",
       "       [  1.99450000e+03,   2.99000000e+01],\n",
       "       [  1.99550000e+03,   1.75000000e+01],\n",
       "       [  1.99650000e+03,   8.60000000e+00],\n",
       "       [  1.99750000e+03,   2.15000000e+01],\n",
       "       [  1.99850000e+03,   6.43000000e+01],\n",
       "       [  1.99950000e+03,   9.33000000e+01],\n",
       "       [  2.00050000e+03,   1.19600000e+02],\n",
       "       [  2.00150000e+03,   1.11000000e+02],\n",
       "       [  2.00250000e+03,   1.04000000e+02],\n",
       "       [  2.00350000e+03,   6.37000000e+01],\n",
       "       [  2.00450000e+03,   4.04000000e+01],\n",
       "       [  2.00550000e+03,   2.98000000e+01],\n",
       "       [  2.00650000e+03,   1.52000000e+01],\n",
       "       [  2.00750000e+03,   7.50000000e+00],\n",
       "       [  2.00850000e+03,   2.90000000e+00],\n",
       "       [  2.00950000e+03,   3.10000000e+00],\n",
       "       [  2.01050000e+03,   1.65000000e+01],\n",
       "       [  2.01150000e+03,   5.57000000e+01],\n",
       "       [  2.01250000e+03,   5.77000000e+01],\n",
       "       [  2.01350000e+03,   6.49000000e+01],\n",
       "       [  2.01450000e+03,   7.89000000e+01]])"
      ]
     },
     "execution_count": 7,
     "metadata": {},
     "output_type": "execute_result"
    }
   ],
   "source": [
    "data = np.loadtxt(\"yearssn.dat\")\n",
    "a= np.array(data)\n",
    "a"
   ]
  },
  {
   "cell_type": "code",
   "execution_count": 10,
   "metadata": {
    "collapsed": true
   },
   "outputs": [
    {
     "data": {
      "text/plain": [
       "array([ 1700.5,  1701.5,  1702.5,  1703.5,  1704.5,  1705.5,  1706.5,\n",
       "        1707.5,  1708.5,  1709.5,  1710.5,  1711.5,  1712.5,  1713.5,\n",
       "        1714.5,  1715.5,  1716.5,  1717.5,  1718.5,  1719.5,  1720.5,\n",
       "        1721.5,  1722.5,  1723.5,  1724.5,  1725.5,  1726.5,  1727.5,\n",
       "        1728.5,  1729.5,  1730.5,  1731.5,  1732.5,  1733.5,  1734.5,\n",
       "        1735.5,  1736.5,  1737.5,  1738.5,  1739.5,  1740.5,  1741.5,\n",
       "        1742.5,  1743.5,  1744.5,  1745.5,  1746.5,  1747.5,  1748.5,\n",
       "        1749.5,  1750.5,  1751.5,  1752.5,  1753.5,  1754.5,  1755.5,\n",
       "        1756.5,  1757.5,  1758.5,  1759.5,  1760.5,  1761.5,  1762.5,\n",
       "        1763.5,  1764.5,  1765.5,  1766.5,  1767.5,  1768.5,  1769.5,\n",
       "        1770.5,  1771.5,  1772.5,  1773.5,  1774.5,  1775.5,  1776.5,\n",
       "        1777.5,  1778.5,  1779.5,  1780.5,  1781.5,  1782.5,  1783.5,\n",
       "        1784.5,  1785.5,  1786.5,  1787.5,  1788.5,  1789.5,  1790.5,\n",
       "        1791.5,  1792.5,  1793.5,  1794.5,  1795.5,  1796.5,  1797.5,\n",
       "        1798.5,  1799.5,  1800.5,  1801.5,  1802.5,  1803.5,  1804.5,\n",
       "        1805.5,  1806.5,  1807.5,  1808.5,  1809.5,  1810.5,  1811.5,\n",
       "        1812.5,  1813.5,  1814.5,  1815.5,  1816.5,  1817.5,  1818.5,\n",
       "        1819.5,  1820.5,  1821.5,  1822.5,  1823.5,  1824.5,  1825.5,\n",
       "        1826.5,  1827.5,  1828.5,  1829.5,  1830.5,  1831.5,  1832.5,\n",
       "        1833.5,  1834.5,  1835.5,  1836.5,  1837.5,  1838.5,  1839.5,\n",
       "        1840.5,  1841.5,  1842.5,  1843.5,  1844.5,  1845.5,  1846.5,\n",
       "        1847.5,  1848.5,  1849.5,  1850.5,  1851.5,  1852.5,  1853.5,\n",
       "        1854.5,  1855.5,  1856.5,  1857.5,  1858.5,  1859.5,  1860.5,\n",
       "        1861.5,  1862.5,  1863.5,  1864.5,  1865.5,  1866.5,  1867.5,\n",
       "        1868.5,  1869.5,  1870.5,  1871.5,  1872.5,  1873.5,  1874.5,\n",
       "        1875.5,  1876.5,  1877.5,  1878.5,  1879.5,  1880.5,  1881.5,\n",
       "        1882.5,  1883.5,  1884.5,  1885.5,  1886.5,  1887.5,  1888.5,\n",
       "        1889.5,  1890.5,  1891.5,  1892.5,  1893.5,  1894.5,  1895.5,\n",
       "        1896.5,  1897.5,  1898.5,  1899.5,  1900.5,  1901.5,  1902.5,\n",
       "        1903.5,  1904.5,  1905.5,  1906.5,  1907.5,  1908.5,  1909.5,\n",
       "        1910.5,  1911.5,  1912.5,  1913.5,  1914.5,  1915.5,  1916.5,\n",
       "        1917.5,  1918.5,  1919.5,  1920.5,  1921.5,  1922.5,  1923.5,\n",
       "        1924.5,  1925.5,  1926.5,  1927.5,  1928.5,  1929.5,  1930.5,\n",
       "        1931.5,  1932.5,  1933.5,  1934.5,  1935.5,  1936.5,  1937.5,\n",
       "        1938.5,  1939.5,  1940.5,  1941.5,  1942.5,  1943.5,  1944.5,\n",
       "        1945.5,  1946.5,  1947.5,  1948.5,  1949.5,  1950.5,  1951.5,\n",
       "        1952.5,  1953.5,  1954.5,  1955.5,  1956.5,  1957.5,  1958.5,\n",
       "        1959.5,  1960.5,  1961.5,  1962.5,  1963.5,  1964.5,  1965.5,\n",
       "        1966.5,  1967.5,  1968.5,  1969.5,  1970.5,  1971.5,  1972.5,\n",
       "        1973.5,  1974.5,  1975.5,  1976.5,  1977.5,  1978.5,  1979.5,\n",
       "        1980.5,  1981.5,  1982.5,  1983.5,  1984.5,  1985.5,  1986.5,\n",
       "        1987.5,  1988.5,  1989.5,  1990.5,  1991.5,  1992.5,  1993.5,\n",
       "        1994.5,  1995.5,  1996.5,  1997.5,  1998.5,  1999.5,  2000.5,\n",
       "        2001.5,  2002.5,  2003.5,  2004.5,  2005.5,  2006.5,  2007.5,\n",
       "        2008.5,  2009.5,  2010.5,  2011.5,  2012.5,  2013.5,  2014.5])"
      ]
     },
     "execution_count": 10,
     "metadata": {},
     "output_type": "execute_result"
    }
   ],
   "source": [
    "years = a[:,0]\n",
    "years"
   ]
  },
  {
   "cell_type": "code",
   "execution_count": 12,
   "metadata": {
    "collapsed": true
   },
   "outputs": [
    {
     "data": {
      "text/plain": [
       "array([   5. ,   11. ,   16. ,   23. ,   36. ,   58. ,   29. ,   20. ,\n",
       "         10. ,    8. ,    3. ,    0. ,    0. ,    2. ,   11. ,   27. ,\n",
       "         47. ,   63. ,   60. ,   39. ,   28. ,   26. ,   22. ,   11. ,\n",
       "         21. ,   40. ,   78. ,  122. ,  103. ,   73. ,   47. ,   35. ,\n",
       "         11. ,    5. ,   16. ,   34. ,   70. ,   81. ,  111. ,  101. ,\n",
       "         73. ,   40. ,   20. ,   16. ,    5. ,   11. ,   22. ,   40. ,\n",
       "         60. ,   80.9,   83.4,   47.7,   47.8,   30.7,   12.2,    9.6,\n",
       "         10.2,   32.4,   47.6,   54. ,   62.9,   85.9,   61.2,   45.1,\n",
       "         36.4,   20.9,   11.4,   37.8,   69.8,  106.1,  100.8,   81.6,\n",
       "         66.5,   34.8,   30.6,    7. ,   19.8,   92.5,  154.4,  125.9,\n",
       "         84.8,   68.1,   38.5,   22.8,   10.2,   24.1,   82.9,  132. ,\n",
       "        130.9,  118.1,   89.9,   66.6,   60. ,   46.9,   41. ,   21.3,\n",
       "         16. ,    6.4,    4.1,    6.8,   14.5,   34. ,   45. ,   43.1,\n",
       "         47.5,   42.2,   28.1,   10.1,    8.1,    2.5,    0. ,    1.4,\n",
       "          5. ,   12.2,   13.9,   35.4,   45.8,   41. ,   30.1,   23.9,\n",
       "         15.6,    6.6,    4. ,    1.8,    8.5,   16.6,   36.3,   49.6,\n",
       "         64.2,   67. ,   70.9,   47.8,   27.5,    8.5,   13.2,   56.9,\n",
       "        121.5,  138.3,  103.2,   85.7,   64.6,   36.7,   24.2,   10.7,\n",
       "         15. ,   40.1,   61.5,   98.5,  124.7,   96.1,   66.5,   64.2,\n",
       "         54.1,   39. ,   20.5,    6.7,    4.3,   22.8,   55. ,   93.9,\n",
       "         95.9,   77.2,   59. ,   44. ,   47. ,   30.4,   16.2,    7.3,\n",
       "         37.6,   74.1,  139.1,  111.1,  101.4,   66. ,   44.6,   17. ,\n",
       "         11.3,   12.4,    3.4,    6. ,   32.2,   54.3,   59.4,   63.7,\n",
       "         63.5,   51.8,   25.5,   13.1,    6.7,    6.2,    7.1,   35.7,\n",
       "         73. ,   85.2,   78. ,   63.9,   41.7,   26.2,   26.7,   12.1,\n",
       "          9.4,    2.7,    5.1,   24.4,   42.1,   63.3,   54.1,   61.7,\n",
       "         48.5,   43.9,   18.5,    5.7,    3.6,    1.4,    9.6,   47.4,\n",
       "         57. ,  104.2,   80.8,   63.5,   37.6,   26.1,   14.2,    5.8,\n",
       "         16.7,   44.4,   63.9,   68.8,   77.8,   64.9,   35.6,   21.1,\n",
       "         11.1,    5.5,    8.7,   36.1,   79.7,  114.4,  109.6,   88.8,\n",
       "         67.8,   47.5,   30.4,   16.3,    9.7,   33.2,   92.6,  151.6,\n",
       "        136.3,  134.7,   83.9,   69.4,   31.5,   13.9,    4.4,   38. ,\n",
       "        141.7,  190.2,  184.8,  159. ,  112.3,   53.9,   37.5,   27.9,\n",
       "         10.2,   15.1,   47. ,   93.8,  105.9,  105.5,  104.5,   66.6,\n",
       "         68.9,   38. ,   34.5,   15.5,   12.6,   27.5,   92.5,  155.4,\n",
       "        154.6,  140.5,  115.9,   66.8,   45.7,   18. ,   13.4,   29.4,\n",
       "        100.2,  157.6,  142.6,  145.7,   94.3,   54.6,   29.9,   17.5,\n",
       "          8.6,   21.5,   64.3,   93.3,  119.6,  111. ,  104. ,   63.7,\n",
       "         40.4,   29.8,   15.2,    7.5,    2.9,    3.1,   16.5,   55.7,\n",
       "         57.7,   64.9,   78.9])"
      ]
     },
     "execution_count": 12,
     "metadata": {},
     "output_type": "execute_result"
    }
   ],
   "source": [
    "ssc = a[:,1]\n",
    "ssc"
   ]
  },
  {
   "cell_type": "code",
   "execution_count": null,
   "metadata": {
    "collapsed": true,
    "deletable": false,
    "nbgrader": {
     "checksum": "487fbe3f8889876c782a18756175d727",
     "grade": true,
     "grade_id": "matplotlibex01b",
     "points": 1
    }
   },
   "outputs": [],
   "source": [
    "assert len(year)==315\n",
    "assert year.dtype==np.dtype(float)\n",
    "assert len(ssc)==315\n",
    "assert ssc.dtype==np.dtype(float)"
   ]
  },
  {
   "cell_type": "markdown",
   "metadata": {
    "nbgrader": {}
   },
   "source": [
    "Make a line plot showing the sunspot count as a function of year.\n",
    "\n",
    "* Customize your plot to follow Tufte's principles of visualizations.\n",
    "* Adjust the aspect ratio/size so that the steepest slope in your plot is *approximately* 1.\n",
    "* Customize the box, grid, spines and ticks to match the requirements of this data."
   ]
  },
  {
   "cell_type": "code",
   "execution_count": 25,
   "metadata": {
    "collapsed": false,
    "deletable": false,
    "nbgrader": {
     "checksum": "6cff4e8e53b15273846c3aecaea84a3d",
     "solution": true
    }
   },
   "outputs": [
    {
     "data": {
      "image/png": "[encoded data removed]",
      "text/plain": [
       "<matplotlib.figure.Figure at 0x7f8715c09438>"
      ]
     },
     "metadata": {},
     "output_type": "display_data"
    }
   ],
   "source": [
    "plt.plot(years, ssc,)\n",
    "plt.figsize=(10,8)"
   ]
  },
  {
   "cell_type": "code",
   "execution_count": null,
   "metadata": {
    "collapsed": true,
    "deletable": false,
    "nbgrader": {
     "checksum": "d7cdb9758e069eb5f0d1c1b4c4f56668",
     "grade": true,
     "grade_id": "matplotlibex01c",
     "points": 3
    }
   },
   "outputs": [],
   "source": [
    "assert True # leave for grading"
   ]
  },
  {
   "cell_type": "markdown",
   "metadata": {
    "nbgrader": {}
   },
   "source": [
    "Describe the choices you have made in building this visualization and how they make it effective."
   ]
  },
  {
   "cell_type": "markdown",
   "metadata": {
    "deletable": false,
    "nbgrader": {
     "checksum": "89c49052b770b981791536f5c2b07e13",
     "grade": true,
     "grade_id": "matplotlibex01d",
     "points": 1,
     "solution": true
    }
   },
   "source": [
    "YOUR ANSWER HERE"
   ]
  },
  {
   "cell_type": "markdown",
   "metadata": {
    "nbgrader": {}
   },
   "source": [
    "Now make 4 subplots, one for each century in the data set. This approach works well for this dataset as it allows you to maintain mild slopes while limiting the overall width of the visualization. Perform similar customizations as above:\n",
    "\n",
    "* Customize your plot to follow Tufte's principles of visualizations.\n",
    "* Adjust the aspect ratio/size so that the steepest slope in your plot is *approximately* 1.\n",
    "* Customize the box, grid, spines and ticks to match the requirements of this data."
   ]
  },
  {
   "cell_type": "code",
   "execution_count": null,
   "metadata": {
    "collapsed": false,
    "deletable": false,
    "nbgrader": {
     "checksum": "6cff4e8e53b15273846c3aecaea84a3d",
     "solution": true
    }
   },
   "outputs": [],
   "source": [
    "# YOUR CODE HERE\n",
    "raise NotImplementedError()"
   ]
  },
  {
   "cell_type": "code",
   "execution_count": null,
   "metadata": {
    "collapsed": true,
    "deletable": false,
    "nbgrader": {
     "checksum": "332b489afbabd6c48e3456fb8db4ee88",
     "grade": true,
     "grade_id": "matplotlibex01e",
     "points": 4
    }
   },
   "outputs": [],
   "source": [
    "assert True # leave for grading"
   ]
  }
 ],
 "metadata": {
  "kernelspec": {
   "display_name": "Python 3",
   "language": "python",
   "name": "python3"
  },
  "language_info": {
   "codemirror_mode": {
    "name": "ipython",
    "version": 3
   },
   "file_extension": ".py",
   "mimetype": "text/x-python",
   "name": "python",
   "nbconvert_exporter": "python",
   "pygments_lexer": "ipython3",
   "version": "3.4.0"
  }
 },
 "nbformat": 4,
 "nbformat_minor": 0
}
