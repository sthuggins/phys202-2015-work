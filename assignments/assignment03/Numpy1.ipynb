{
 "cells": [
  {
   "cell_type": "code",
   "execution_count": 1,
   "metadata": {
    "collapsed": true
   },
   "outputs": [],
   "source": [
    "%matplotlib inline\n",
    "from matplotlib import pyplot as plt\n",
    "import seaborn as sns"
   ]
  },
  {
   "cell_type": "code",
   "execution_count": 2,
   "metadata": {
    "collapsed": false
   },
   "outputs": [
    {
     "name": "stdout",
     "output_type": "stream",
     "text": [
      "Downloading:  https://raw.githubusercontent.com/ellisonbg/misc/master/vizarray.py\n",
      "Using existing version:  github.ellisonbg.misc.vizarray\n"
     ]
    }
   ],
   "source": [
    "import antipackage\n",
    "from github.ellisonbg.misc import vizarray as va"
   ]
  },
  {
   "cell_type": "code",
   "execution_count": 3,
   "metadata": {
    "collapsed": true
   },
   "outputs": [],
   "source": [
    "import numpy as np"
   ]
  },
  {
   "cell_type": "code",
   "execution_count": 7,
   "metadata": {
    "collapsed": false
   },
   "outputs": [],
   "source": [
    "import numpy as np\n",
    "\n",
    "def checkerboard(size):\n",
    "    stuff = [0.0,1.0]\n",
    "    a = np.array(stuff)"
   ]
  },
  {
   "cell_type": "code",
   "execution_count": null,
   "metadata": {
    "collapsed": true
   },
   "outputs": [],
   "source": [
    "a = checkerboard(4)\n",
    "assert a[0,0]==1.0\n",
    "assert a.sum()==8.0\n",
    "assert a.dtype==np.dtype(float)\n",
    "assert np.all(a[0,0:5:2]==1.0)\n",
    "assert np.all(a[1,0:5:2]==0.0)\n",
    "\n",
    "b = checkerboard(5)\n",
    "assert b[0,0]==1.0\n",
    "assert b.sum()==13.0\n",
    "assert np.all(b.ravel()[0:26:2]==1.0)\n",
    "assert np.all(b.ravel()[1:25:2]==0.0)"
   ]
  },
  {
   "cell_type": "code",
   "execution_count": 10,
   "metadata": {
    "collapsed": false,
    "scrolled": false
   },
   "outputs": [
    {
     "data": {
      "text/html": [
       "<style type=\"text/css\">table.blockgrid {border: none;} .blockgrid tr {border: none;} .blockgrid td {padding: 0px;} #blocksabab3339-6f65-4b96-adf9-cd14f77dd0c9 td {border: 1px solid white;}</style><table id=\"blocksabab3339-6f65-4b96-adf9-cd14f77dd0c9\" class=\"blockgrid\"><tbody><tr><td title=\"Index: [0, 0]&#10;Color: (174, 209, 231)\" style=\"width: 30px; height: 30px;background-color: rgb(174, 209, 231);\"></td><td title=\"Index: [0, 1]&#10;Color: (247, 251, 255)\" style=\"width: 30px; height: 30px;background-color: rgb(247, 251, 255);\"></td><td title=\"Index: [0, 2]&#10;Color: (78, 154, 203)\" style=\"width: 30px; height: 30px;background-color: rgb(78, 154, 203);\"></td><td title=\"Index: [0, 3]&#10;Color: (127, 185, 218)\" style=\"width: 30px; height: 30px;background-color: rgb(127, 185, 218);\"></td><td title=\"Index: [0, 4]&#10;Color: (199, 220, 239)\" style=\"width: 30px; height: 30px;background-color: rgb(199, 220, 239);\"></td><td title=\"Index: [0, 5]&#10;Color: (237, 244, 252)\" style=\"width: 30px; height: 30px;background-color: rgb(237, 244, 252);\"></td><td title=\"Index: [0, 6]&#10;Color: (146, 196, 222)\" style=\"width: 30px; height: 30px;background-color: rgb(146, 196, 222);\"></td><td title=\"Index: [0, 7]&#10;Color: (218, 232, 246)\" style=\"width: 30px; height: 30px;background-color: rgb(218, 232, 246);\"></td><td title=\"Index: [0, 8]&#10;Color: (227, 238, 249)\" style=\"width: 30px; height: 30px;background-color: rgb(227, 238, 249);\"></td><td title=\"Index: [0, 9]&#10;Color: (132, 188, 219)\" style=\"width: 30px; height: 30px;background-color: rgb(132, 188, 219);\"></td></tr><tr><td title=\"Index: [1, 0]&#10;Color: (18, 94, 166)\" style=\"width: 30px; height: 30px;background-color: rgb(18, 94, 166);\"></td><td title=\"Index: [1, 1]&#10;Color: (220, 233, 246)\" style=\"width: 30px; height: 30px;background-color: rgb(220, 233, 246);\"></td><td title=\"Index: [1, 2]&#10;Color: (18, 93, 166)\" style=\"width: 30px; height: 30px;background-color: rgb(18, 93, 166);\"></td><td title=\"Index: [1, 3]&#10;Color: (195, 218, 238)\" style=\"width: 30px; height: 30px;background-color: rgb(195, 218, 238);\"></td><td title=\"Index: [1, 4]&#10;Color: (8, 66, 133)\" style=\"width: 30px; height: 30px;background-color: rgb(8, 66, 133);\"></td><td title=\"Index: [1, 5]&#10;Color: (18, 94, 166)\" style=\"width: 30px; height: 30px;background-color: rgb(18, 94, 166);\"></td><td title=\"Index: [1, 6]&#10;Color: (48, 128, 189)\" style=\"width: 30px; height: 30px;background-color: rgb(48, 128, 189);\"></td><td title=\"Index: [1, 7]&#10;Color: (33, 113, 181)\" style=\"width: 30px; height: 30px;background-color: rgb(33, 113, 181);\"></td><td title=\"Index: [1, 8]&#10;Color: (246, 250, 255)\" style=\"width: 30px; height: 30px;background-color: rgb(246, 250, 255);\"></td><td title=\"Index: [1, 9]&#10;Color: (37, 117, 183)\" style=\"width: 30px; height: 30px;background-color: rgb(37, 117, 183);\"></td></tr><tr><td title=\"Index: [2, 0]&#10;Color: (149, 197, 223)\" style=\"width: 30px; height: 30px;background-color: rgb(149, 197, 223);\"></td><td title=\"Index: [2, 1]&#10;Color: (153, 199, 224)\" style=\"width: 30px; height: 30px;background-color: rgb(153, 199, 224);\"></td><td title=\"Index: [2, 2]&#10;Color: (48, 128, 189)\" style=\"width: 30px; height: 30px;background-color: rgb(48, 128, 189);\"></td><td title=\"Index: [2, 3]&#10;Color: (9, 82, 157)\" style=\"width: 30px; height: 30px;background-color: rgb(9, 82, 157);\"></td><td title=\"Index: [2, 4]&#10;Color: (210, 227, 243)\" style=\"width: 30px; height: 30px;background-color: rgb(210, 227, 243);\"></td><td title=\"Index: [2, 5]&#10;Color: (32, 111, 180)\" style=\"width: 30px; height: 30px;background-color: rgb(32, 111, 180);\"></td><td title=\"Index: [2, 6]&#10;Color: (145, 195, 222)\" style=\"width: 30px; height: 30px;background-color: rgb(145, 195, 222);\"></td><td title=\"Index: [2, 7]&#10;Color: (220, 234, 246)\" style=\"width: 30px; height: 30px;background-color: rgb(220, 234, 246);\"></td><td title=\"Index: [2, 8]&#10;Color: (101, 170, 212)\" style=\"width: 30px; height: 30px;background-color: rgb(101, 170, 212);\"></td><td title=\"Index: [2, 9]&#10;Color: (231, 240, 250)\" style=\"width: 30px; height: 30px;background-color: rgb(231, 240, 250);\"></td></tr><tr><td title=\"Index: [3, 0]&#10;Color: (23, 100, 171)\" style=\"width: 30px; height: 30px;background-color: rgb(23, 100, 171);\"></td><td title=\"Index: [3, 1]&#10;Color: (54, 134, 192)\" style=\"width: 30px; height: 30px;background-color: rgb(54, 134, 192);\"></td><td title=\"Index: [3, 2]&#10;Color: (32, 111, 180)\" style=\"width: 30px; height: 30px;background-color: rgb(32, 111, 180);\"></td><td title=\"Index: [3, 3]&#10;Color: (174, 209, 231)\" style=\"width: 30px; height: 30px;background-color: rgb(174, 209, 231);\"></td><td title=\"Index: [3, 4]&#10;Color: (100, 169, 211)\" style=\"width: 30px; height: 30px;background-color: rgb(100, 169, 211);\"></td><td title=\"Index: [3, 5]&#10;Color: (209, 226, 243)\" style=\"width: 30px; height: 30px;background-color: rgb(209, 226, 243);\"></td><td title=\"Index: [3, 6]&#10;Color: (220, 233, 246)\" style=\"width: 30px; height: 30px;background-color: rgb(220, 233, 246);\"></td><td title=\"Index: [3, 7]&#10;Color: (8, 53, 115)\" style=\"width: 30px; height: 30px;background-color: rgb(8, 53, 115);\"></td><td title=\"Index: [3, 8]&#10;Color: (239, 246, 252)\" style=\"width: 30px; height: 30px;background-color: rgb(239, 246, 252);\"></td><td title=\"Index: [3, 9]&#10;Color: (10, 84, 158)\" style=\"width: 30px; height: 30px;background-color: rgb(10, 84, 158);\"></td></tr><tr><td title=\"Index: [4, 0]&#10;Color: (175, 209, 231)\" style=\"width: 30px; height: 30px;background-color: rgb(175, 209, 231);\"></td><td title=\"Index: [4, 1]&#10;Color: (35, 115, 182)\" style=\"width: 30px; height: 30px;background-color: rgb(35, 115, 182);\"></td><td title=\"Index: [4, 2]&#10;Color: (8, 69, 138)\" style=\"width: 30px; height: 30px;background-color: rgb(8, 69, 138);\"></td><td title=\"Index: [4, 3]&#10;Color: (48, 128, 189)\" style=\"width: 30px; height: 30px;background-color: rgb(48, 128, 189);\"></td><td title=\"Index: [4, 4]&#10;Color: (78, 154, 203)\" style=\"width: 30px; height: 30px;background-color: rgb(78, 154, 203);\"></td><td title=\"Index: [4, 5]&#10;Color: (28, 107, 176)\" style=\"width: 30px; height: 30px;background-color: rgb(28, 107, 176);\"></td><td title=\"Index: [4, 6]&#10;Color: (8, 56, 119)\" style=\"width: 30px; height: 30px;background-color: rgb(8, 56, 119);\"></td><td title=\"Index: [4, 7]&#10;Color: (178, 210, 232)\" style=\"width: 30px; height: 30px;background-color: rgb(178, 210, 232);\"></td><td title=\"Index: [4, 8]&#10;Color: (8, 81, 156)\" style=\"width: 30px; height: 30px;background-color: rgb(8, 81, 156);\"></td><td title=\"Index: [4, 9]&#10;Color: (8, 58, 122)\" style=\"width: 30px; height: 30px;background-color: rgb(8, 58, 122);\"></td></tr><tr><td title=\"Index: [5, 0]&#10;Color: (41, 121, 185)\" style=\"width: 30px; height: 30px;background-color: rgb(41, 121, 185);\"></td><td title=\"Index: [5, 1]&#10;Color: (231, 241, 250)\" style=\"width: 30px; height: 30px;background-color: rgb(231, 241, 250);\"></td><td title=\"Index: [5, 2]&#10;Color: (8, 51, 112)\" style=\"width: 30px; height: 30px;background-color: rgb(8, 51, 112);\"></td><td title=\"Index: [5, 3]&#10;Color: (51, 131, 190)\" style=\"width: 30px; height: 30px;background-color: rgb(51, 131, 190);\"></td><td title=\"Index: [5, 4]&#10;Color: (65, 145, 198)\" style=\"width: 30px; height: 30px;background-color: rgb(65, 145, 198);\"></td><td title=\"Index: [5, 5]&#10;Color: (32, 111, 180)\" style=\"width: 30px; height: 30px;background-color: rgb(32, 111, 180);\"></td><td title=\"Index: [5, 6]&#10;Color: (86, 160, 206)\" style=\"width: 30px; height: 30px;background-color: rgb(86, 160, 206);\"></td><td title=\"Index: [5, 7]&#10;Color: (8, 74, 145)\" style=\"width: 30px; height: 30px;background-color: rgb(8, 74, 145);\"></td><td title=\"Index: [5, 8]&#10;Color: (8, 53, 115)\" style=\"width: 30px; height: 30px;background-color: rgb(8, 53, 115);\"></td><td title=\"Index: [5, 9]&#10;Color: (63, 143, 197)\" style=\"width: 30px; height: 30px;background-color: rgb(63, 143, 197);\"></td></tr><tr><td title=\"Index: [6, 0]&#10;Color: (246, 250, 255)\" style=\"width: 30px; height: 30px;background-color: rgb(246, 250, 255);\"></td><td title=\"Index: [6, 1]&#10;Color: (221, 234, 247)\" style=\"width: 30px; height: 30px;background-color: rgb(221, 234, 247);\"></td><td title=\"Index: [6, 2]&#10;Color: (159, 202, 225)\" style=\"width: 30px; height: 30px;background-color: rgb(159, 202, 225);\"></td><td title=\"Index: [6, 3]&#10;Color: (8, 59, 124)\" style=\"width: 30px; height: 30px;background-color: rgb(8, 59, 124);\"></td><td title=\"Index: [6, 4]&#10;Color: (62, 142, 196)\" style=\"width: 30px; height: 30px;background-color: rgb(62, 142, 196);\"></td><td title=\"Index: [6, 5]&#10;Color: (8, 66, 133)\" style=\"width: 30px; height: 30px;background-color: rgb(8, 66, 133);\"></td><td title=\"Index: [6, 6]&#10;Color: (99, 168, 211)\" style=\"width: 30px; height: 30px;background-color: rgb(99, 168, 211);\"></td><td title=\"Index: [6, 7]&#10;Color: (227, 238, 249)\" style=\"width: 30px; height: 30px;background-color: rgb(227, 238, 249);\"></td><td title=\"Index: [6, 8]&#10;Color: (91, 163, 208)\" style=\"width: 30px; height: 30px;background-color: rgb(91, 163, 208);\"></td><td title=\"Index: [6, 9]&#10;Color: (8, 66, 133)\" style=\"width: 30px; height: 30px;background-color: rgb(8, 66, 133);\"></td></tr><tr><td title=\"Index: [7, 0]&#10;Color: (119, 181, 217)\" style=\"width: 30px; height: 30px;background-color: rgb(119, 181, 217);\"></td><td title=\"Index: [7, 1]&#10;Color: (8, 68, 136)\" style=\"width: 30px; height: 30px;background-color: rgb(8, 68, 136);\"></td><td title=\"Index: [7, 2]&#10;Color: (8, 53, 115)\" style=\"width: 30px; height: 30px;background-color: rgb(8, 53, 115);\"></td><td title=\"Index: [7, 3]&#10;Color: (170, 207, 229)\" style=\"width: 30px; height: 30px;background-color: rgb(170, 207, 229);\"></td><td title=\"Index: [7, 4]&#10;Color: (205, 224, 241)\" style=\"width: 30px; height: 30px;background-color: rgb(205, 224, 241);\"></td><td title=\"Index: [7, 5]&#10;Color: (8, 68, 136)\" style=\"width: 30px; height: 30px;background-color: rgb(8, 68, 136);\"></td><td title=\"Index: [7, 6]&#10;Color: (157, 202, 225)\" style=\"width: 30px; height: 30px;background-color: rgb(157, 202, 225);\"></td><td title=\"Index: [7, 7]&#10;Color: (216, 231, 245)\" style=\"width: 30px; height: 30px;background-color: rgb(216, 231, 245);\"></td><td title=\"Index: [7, 8]&#10;Color: (8, 78, 152)\" style=\"width: 30px; height: 30px;background-color: rgb(8, 78, 152);\"></td><td title=\"Index: [7, 9]&#10;Color: (21, 97, 169)\" style=\"width: 30px; height: 30px;background-color: rgb(21, 97, 169);\"></td></tr><tr><td title=\"Index: [8, 0]&#10;Color: (18, 94, 166)\" style=\"width: 30px; height: 30px;background-color: rgb(18, 94, 166);\"></td><td title=\"Index: [8, 1]&#10;Color: (148, 196, 223)\" style=\"width: 30px; height: 30px;background-color: rgb(148, 196, 223);\"></td><td title=\"Index: [8, 2]&#10;Color: (138, 191, 221)\" style=\"width: 30px; height: 30px;background-color: rgb(138, 191, 221);\"></td><td title=\"Index: [8, 3]&#10;Color: (22, 99, 170)\" style=\"width: 30px; height: 30px;background-color: rgb(22, 99, 170);\"></td><td title=\"Index: [8, 4]&#10;Color: (90, 162, 207)\" style=\"width: 30px; height: 30px;background-color: rgb(90, 162, 207);\"></td><td title=\"Index: [8, 5]&#10;Color: (146, 196, 222)\" style=\"width: 30px; height: 30px;background-color: rgb(146, 196, 222);\"></td><td title=\"Index: [8, 6]&#10;Color: (31, 110, 179)\" style=\"width: 30px; height: 30px;background-color: rgb(31, 110, 179);\"></td><td title=\"Index: [8, 7]&#10;Color: (8, 79, 153)\" style=\"width: 30px; height: 30px;background-color: rgb(8, 79, 153);\"></td><td title=\"Index: [8, 8]&#10;Color: (104, 172, 213)\" style=\"width: 30px; height: 30px;background-color: rgb(104, 172, 213);\"></td><td title=\"Index: [8, 9]&#10;Color: (119, 181, 217)\" style=\"width: 30px; height: 30px;background-color: rgb(119, 181, 217);\"></td></tr><tr><td title=\"Index: [9, 0]&#10;Color: (213, 229, 244)\" style=\"width: 30px; height: 30px;background-color: rgb(213, 229, 244);\"></td><td title=\"Index: [9, 1]&#10;Color: (8, 76, 149)\" style=\"width: 30px; height: 30px;background-color: rgb(8, 76, 149);\"></td><td title=\"Index: [9, 2]&#10;Color: (48, 128, 189)\" style=\"width: 30px; height: 30px;background-color: rgb(48, 128, 189);\"></td><td title=\"Index: [9, 3]&#10;Color: (8, 71, 141)\" style=\"width: 30px; height: 30px;background-color: rgb(8, 71, 141);\"></td><td title=\"Index: [9, 4]&#10;Color: (213, 229, 244)\" style=\"width: 30px; height: 30px;background-color: rgb(213, 229, 244);\"></td><td title=\"Index: [9, 5]&#10;Color: (166, 206, 228)\" style=\"width: 30px; height: 30px;background-color: rgb(166, 206, 228);\"></td><td title=\"Index: [9, 6]&#10;Color: (199, 219, 239)\" style=\"width: 30px; height: 30px;background-color: rgb(199, 219, 239);\"></td><td title=\"Index: [9, 7]&#10;Color: (222, 235, 247)\" style=\"width: 30px; height: 30px;background-color: rgb(222, 235, 247);\"></td><td title=\"Index: [9, 8]&#10;Color: (58, 138, 194)\" style=\"width: 30px; height: 30px;background-color: rgb(58, 138, 194);\"></td><td title=\"Index: [9, 9]&#10;Color: (100, 169, 211)\" style=\"width: 30px; height: 30px;background-color: rgb(100, 169, 211);\"></td></tr><tr><td title=\"Index: [10, 0]&#10;Color: (127, 185, 218)\" style=\"width: 30px; height: 30px;background-color: rgb(127, 185, 218);\"></td><td title=\"Index: [10, 1]&#10;Color: (81, 156, 204)\" style=\"width: 30px; height: 30px;background-color: rgb(81, 156, 204);\"></td><td title=\"Index: [10, 2]&#10;Color: (8, 50, 110)\" style=\"width: 30px; height: 30px;background-color: rgb(8, 50, 110);\"></td><td title=\"Index: [10, 3]&#10;Color: (102, 171, 212)\" style=\"width: 30px; height: 30px;background-color: rgb(102, 171, 212);\"></td><td title=\"Index: [10, 4]&#10;Color: (74, 152, 201)\" style=\"width: 30px; height: 30px;background-color: rgb(74, 152, 201);\"></td><td title=\"Index: [10, 5]&#10;Color: (8, 68, 136)\" style=\"width: 30px; height: 30px;background-color: rgb(8, 68, 136);\"></td><td title=\"Index: [10, 6]&#10;Color: (79, 155, 203)\" style=\"width: 30px; height: 30px;background-color: rgb(79, 155, 203);\"></td><td title=\"Index: [10, 7]&#10;Color: (215, 230, 245)\" style=\"width: 30px; height: 30px;background-color: rgb(215, 230, 245);\"></td><td title=\"Index: [10, 8]&#10;Color: (18, 93, 166)\" style=\"width: 30px; height: 30px;background-color: rgb(18, 93, 166);\"></td><td title=\"Index: [10, 9]&#10;Color: (8, 65, 132)\" style=\"width: 30px; height: 30px;background-color: rgb(8, 65, 132);\"></td></tr><tr><td title=\"Index: [11, 0]&#10;Color: (8, 71, 141)\" style=\"width: 30px; height: 30px;background-color: rgb(8, 71, 141);\"></td><td title=\"Index: [11, 1]&#10;Color: (47, 127, 188)\" style=\"width: 30px; height: 30px;background-color: rgb(47, 127, 188);\"></td><td title=\"Index: [11, 2]&#10;Color: (8, 72, 142)\" style=\"width: 30px; height: 30px;background-color: rgb(8, 72, 142);\"></td><td title=\"Index: [11, 3]&#10;Color: (226, 237, 248)\" style=\"width: 30px; height: 30px;background-color: rgb(226, 237, 248);\"></td><td title=\"Index: [11, 4]&#10;Color: (8, 67, 135)\" style=\"width: 30px; height: 30px;background-color: rgb(8, 67, 135);\"></td><td title=\"Index: [11, 5]&#10;Color: (231, 241, 250)\" style=\"width: 30px; height: 30px;background-color: rgb(231, 241, 250);\"></td><td title=\"Index: [11, 6]&#10;Color: (125, 184, 218)\" style=\"width: 30px; height: 30px;background-color: rgb(125, 184, 218);\"></td><td title=\"Index: [11, 7]&#10;Color: (8, 81, 156)\" style=\"width: 30px; height: 30px;background-color: rgb(8, 81, 156);\"></td><td title=\"Index: [11, 8]&#10;Color: (208, 225, 242)\" style=\"width: 30px; height: 30px;background-color: rgb(208, 225, 242);\"></td><td title=\"Index: [11, 9]&#10;Color: (27, 105, 175)\" style=\"width: 30px; height: 30px;background-color: rgb(27, 105, 175);\"></td></tr><tr><td title=\"Index: [12, 0]&#10;Color: (130, 187, 219)\" style=\"width: 30px; height: 30px;background-color: rgb(130, 187, 219);\"></td><td title=\"Index: [12, 1]&#10;Color: (25, 103, 173)\" style=\"width: 30px; height: 30px;background-color: rgb(25, 103, 173);\"></td><td title=\"Index: [12, 2]&#10;Color: (66, 146, 198)\" style=\"width: 30px; height: 30px;background-color: rgb(66, 146, 198);\"></td><td title=\"Index: [12, 3]&#10;Color: (53, 133, 191)\" style=\"width: 30px; height: 30px;background-color: rgb(53, 133, 191);\"></td><td title=\"Index: [12, 4]&#10;Color: (88, 161, 207)\" style=\"width: 30px; height: 30px;background-color: rgb(88, 161, 207);\"></td><td title=\"Index: [12, 5]&#10;Color: (225, 237, 248)\" style=\"width: 30px; height: 30px;background-color: rgb(225, 237, 248);\"></td><td title=\"Index: [12, 6]&#10;Color: (8, 50, 110)\" style=\"width: 30px; height: 30px;background-color: rgb(8, 50, 110);\"></td><td title=\"Index: [12, 7]&#10;Color: (99, 168, 211)\" style=\"width: 30px; height: 30px;background-color: rgb(99, 168, 211);\"></td><td title=\"Index: [12, 8]&#10;Color: (8, 72, 142)\" style=\"width: 30px; height: 30px;background-color: rgb(8, 72, 142);\"></td><td title=\"Index: [12, 9]&#10;Color: (206, 224, 242)\" style=\"width: 30px; height: 30px;background-color: rgb(206, 224, 242);\"></td></tr><tr><td title=\"Index: [13, 0]&#10;Color: (178, 210, 232)\" style=\"width: 30px; height: 30px;background-color: rgb(178, 210, 232);\"></td><td title=\"Index: [13, 1]&#10;Color: (30, 109, 178)\" style=\"width: 30px; height: 30px;background-color: rgb(30, 109, 178);\"></td><td title=\"Index: [13, 2]&#10;Color: (227, 238, 249)\" style=\"width: 30px; height: 30px;background-color: rgb(227, 238, 249);\"></td><td title=\"Index: [13, 3]&#10;Color: (230, 240, 249)\" style=\"width: 30px; height: 30px;background-color: rgb(230, 240, 249);\"></td><td title=\"Index: [13, 4]&#10;Color: (201, 221, 240)\" style=\"width: 30px; height: 30px;background-color: rgb(201, 221, 240);\"></td><td title=\"Index: [13, 5]&#10;Color: (31, 110, 179)\" style=\"width: 30px; height: 30px;background-color: rgb(31, 110, 179);\"></td><td title=\"Index: [13, 6]&#10;Color: (102, 171, 212)\" style=\"width: 30px; height: 30px;background-color: rgb(102, 171, 212);\"></td><td title=\"Index: [13, 7]&#10;Color: (96, 167, 210)\" style=\"width: 30px; height: 30px;background-color: rgb(96, 167, 210);\"></td><td title=\"Index: [13, 8]&#10;Color: (196, 218, 238)\" style=\"width: 30px; height: 30px;background-color: rgb(196, 218, 238);\"></td><td title=\"Index: [13, 9]&#10;Color: (247, 251, 255)\" style=\"width: 30px; height: 30px;background-color: rgb(247, 251, 255);\"></td></tr><tr><td title=\"Index: [14, 0]&#10;Color: (234, 243, 251)\" style=\"width: 30px; height: 30px;background-color: rgb(234, 243, 251);\"></td><td title=\"Index: [14, 1]&#10;Color: (237, 244, 252)\" style=\"width: 30px; height: 30px;background-color: rgb(237, 244, 252);\"></td><td title=\"Index: [14, 2]&#10;Color: (8, 80, 155)\" style=\"width: 30px; height: 30px;background-color: rgb(8, 80, 155);\"></td><td title=\"Index: [14, 3]&#10;Color: (77, 153, 202)\" style=\"width: 30px; height: 30px;background-color: rgb(77, 153, 202);\"></td><td title=\"Index: [14, 4]&#10;Color: (231, 241, 250)\" style=\"width: 30px; height: 30px;background-color: rgb(231, 241, 250);\"></td><td title=\"Index: [14, 5]&#10;Color: (169, 207, 229)\" style=\"width: 30px; height: 30px;background-color: rgb(169, 207, 229);\"></td><td title=\"Index: [14, 6]&#10;Color: (106, 174, 214)\" style=\"width: 30px; height: 30px;background-color: rgb(106, 174, 214);\"></td><td title=\"Index: [14, 7]&#10;Color: (38, 118, 184)\" style=\"width: 30px; height: 30px;background-color: rgb(38, 118, 184);\"></td><td title=\"Index: [14, 8]&#10;Color: (243, 248, 254)\" style=\"width: 30px; height: 30px;background-color: rgb(243, 248, 254);\"></td><td title=\"Index: [14, 9]&#10;Color: (215, 230, 245)\" style=\"width: 30px; height: 30px;background-color: rgb(215, 230, 245);\"></td></tr><tr><td title=\"Index: [15, 0]&#10;Color: (104, 172, 213)\" style=\"width: 30px; height: 30px;background-color: rgb(104, 172, 213);\"></td><td title=\"Index: [15, 1]&#10;Color: (212, 228, 244)\" style=\"width: 30px; height: 30px;background-color: rgb(212, 228, 244);\"></td><td title=\"Index: [15, 2]&#10;Color: (19, 95, 167)\" style=\"width: 30px; height: 30px;background-color: rgb(19, 95, 167);\"></td><td title=\"Index: [15, 3]&#10;Color: (124, 183, 218)\" style=\"width: 30px; height: 30px;background-color: rgb(124, 183, 218);\"></td><td title=\"Index: [15, 4]&#10;Color: (77, 153, 202)\" style=\"width: 30px; height: 30px;background-color: rgb(77, 153, 202);\"></td><td title=\"Index: [15, 5]&#10;Color: (65, 145, 198)\" style=\"width: 30px; height: 30px;background-color: rgb(65, 145, 198);\"></td><td title=\"Index: [15, 6]&#10;Color: (193, 217, 237)\" style=\"width: 30px; height: 30px;background-color: rgb(193, 217, 237);\"></td><td title=\"Index: [15, 7]&#10;Color: (28, 107, 176)\" style=\"width: 30px; height: 30px;background-color: rgb(28, 107, 176);\"></td><td title=\"Index: [15, 8]&#10;Color: (82, 157, 204)\" style=\"width: 30px; height: 30px;background-color: rgb(82, 157, 204);\"></td><td title=\"Index: [15, 9]&#10;Color: (166, 206, 228)\" style=\"width: 30px; height: 30px;background-color: rgb(166, 206, 228);\"></td></tr><tr><td title=\"Index: [16, 0]&#10;Color: (82, 157, 204)\" style=\"width: 30px; height: 30px;background-color: rgb(82, 157, 204);\"></td><td title=\"Index: [16, 1]&#10;Color: (129, 186, 219)\" style=\"width: 30px; height: 30px;background-color: rgb(129, 186, 219);\"></td><td title=\"Index: [16, 2]&#10;Color: (223, 235, 247)\" style=\"width: 30px; height: 30px;background-color: rgb(223, 235, 247);\"></td><td title=\"Index: [16, 3]&#10;Color: (104, 172, 213)\" style=\"width: 30px; height: 30px;background-color: rgb(104, 172, 213);\"></td><td title=\"Index: [16, 4]&#10;Color: (125, 184, 218)\" style=\"width: 30px; height: 30px;background-color: rgb(125, 184, 218);\"></td><td title=\"Index: [16, 5]&#10;Color: (55, 135, 192)\" style=\"width: 30px; height: 30px;background-color: rgb(55, 135, 192);\"></td><td title=\"Index: [16, 6]&#10;Color: (244, 249, 254)\" style=\"width: 30px; height: 30px;background-color: rgb(244, 249, 254);\"></td><td title=\"Index: [16, 7]&#10;Color: (47, 127, 188)\" style=\"width: 30px; height: 30px;background-color: rgb(47, 127, 188);\"></td><td title=\"Index: [16, 8]&#10;Color: (201, 221, 240)\" style=\"width: 30px; height: 30px;background-color: rgb(201, 221, 240);\"></td><td title=\"Index: [16, 9]&#10;Color: (203, 222, 241)\" style=\"width: 30px; height: 30px;background-color: rgb(203, 222, 241);\"></td></tr><tr><td title=\"Index: [17, 0]&#10;Color: (227, 238, 248)\" style=\"width: 30px; height: 30px;background-color: rgb(227, 238, 248);\"></td><td title=\"Index: [17, 1]&#10;Color: (92, 164, 208)\" style=\"width: 30px; height: 30px;background-color: rgb(92, 164, 208);\"></td><td title=\"Index: [17, 2]&#10;Color: (8, 75, 147)\" style=\"width: 30px; height: 30px;background-color: rgb(8, 75, 147);\"></td><td title=\"Index: [17, 3]&#10;Color: (8, 48, 107)\" style=\"width: 30px; height: 30px;background-color: rgb(8, 48, 107);\"></td><td title=\"Index: [17, 4]&#10;Color: (173, 208, 230)\" style=\"width: 30px; height: 30px;background-color: rgb(173, 208, 230);\"></td><td title=\"Index: [17, 5]&#10;Color: (8, 65, 132)\" style=\"width: 30px; height: 30px;background-color: rgb(8, 65, 132);\"></td><td title=\"Index: [17, 6]&#10;Color: (237, 244, 252)\" style=\"width: 30px; height: 30px;background-color: rgb(237, 244, 252);\"></td><td title=\"Index: [17, 7]&#10;Color: (11, 85, 159)\" style=\"width: 30px; height: 30px;background-color: rgb(11, 85, 159);\"></td><td title=\"Index: [17, 8]&#10;Color: (222, 235, 247)\" style=\"width: 30px; height: 30px;background-color: rgb(222, 235, 247);\"></td><td title=\"Index: [17, 9]&#10;Color: (11, 85, 159)\" style=\"width: 30px; height: 30px;background-color: rgb(11, 85, 159);\"></td></tr><tr><td title=\"Index: [18, 0]&#10;Color: (235, 243, 251)\" style=\"width: 30px; height: 30px;background-color: rgb(235, 243, 251);\"></td><td title=\"Index: [18, 1]&#10;Color: (171, 208, 230)\" style=\"width: 30px; height: 30px;background-color: rgb(171, 208, 230);\"></td><td title=\"Index: [18, 2]&#10;Color: (159, 202, 225)\" style=\"width: 30px; height: 30px;background-color: rgb(159, 202, 225);\"></td><td title=\"Index: [18, 3]&#10;Color: (63, 143, 197)\" style=\"width: 30px; height: 30px;background-color: rgb(63, 143, 197);\"></td><td title=\"Index: [18, 4]&#10;Color: (8, 57, 121)\" style=\"width: 30px; height: 30px;background-color: rgb(8, 57, 121);\"></td><td title=\"Index: [18, 5]&#10;Color: (213, 229, 244)\" style=\"width: 30px; height: 30px;background-color: rgb(213, 229, 244);\"></td><td title=\"Index: [18, 6]&#10;Color: (232, 241, 250)\" style=\"width: 30px; height: 30px;background-color: rgb(232, 241, 250);\"></td><td title=\"Index: [18, 7]&#10;Color: (186, 214, 235)\" style=\"width: 30px; height: 30px;background-color: rgb(186, 214, 235);\"></td><td title=\"Index: [18, 8]&#10;Color: (129, 186, 219)\" style=\"width: 30px; height: 30px;background-color: rgb(129, 186, 219);\"></td><td title=\"Index: [18, 9]&#10;Color: (227, 238, 248)\" style=\"width: 30px; height: 30px;background-color: rgb(227, 238, 248);\"></td></tr><tr><td title=\"Index: [19, 0]&#10;Color: (10, 84, 158)\" style=\"width: 30px; height: 30px;background-color: rgb(10, 84, 158);\"></td><td title=\"Index: [19, 1]&#10;Color: (230, 240, 249)\" style=\"width: 30px; height: 30px;background-color: rgb(230, 240, 249);\"></td><td title=\"Index: [19, 2]&#10;Color: (8, 48, 107)\" style=\"width: 30px; height: 30px;background-color: rgb(8, 48, 107);\"></td><td title=\"Index: [19, 3]&#10;Color: (189, 215, 236)\" style=\"width: 30px; height: 30px;background-color: rgb(189, 215, 236);\"></td><td title=\"Index: [19, 4]&#10;Color: (57, 137, 193)\" style=\"width: 30px; height: 30px;background-color: rgb(57, 137, 193);\"></td><td title=\"Index: [19, 5]&#10;Color: (8, 80, 155)\" style=\"width: 30px; height: 30px;background-color: rgb(8, 80, 155);\"></td><td title=\"Index: [19, 6]&#10;Color: (235, 243, 251)\" style=\"width: 30px; height: 30px;background-color: rgb(235, 243, 251);\"></td><td title=\"Index: [19, 7]&#10;Color: (208, 225, 242)\" style=\"width: 30px; height: 30px;background-color: rgb(208, 225, 242);\"></td><td title=\"Index: [19, 8]&#10;Color: (33, 113, 181)\" style=\"width: 30px; height: 30px;background-color: rgb(33, 113, 181);\"></td><td title=\"Index: [19, 9]&#10;Color: (64, 144, 197)\" style=\"width: 30px; height: 30px;background-color: rgb(64, 144, 197);\"></td></tr></tbody></table>"
      ],
      "text/plain": [
       "array([[  3.25986552e-01,   3.72570843e-04,   5.88472467e-01,\n",
       "          4.49445031e-01,   2.44361115e-01,   5.39322385e-02,\n",
       "          4.05372156e-01,   1.47341306e-01,   1.01724162e-01,\n",
       "          4.40607719e-01],\n",
       "       [  8.20063719e-01,   1.38246583e-01,   8.25267685e-01,\n",
       "          2.58789462e-01,   9.30716303e-01,   8.21286070e-01,\n",
       "          6.94825819e-01,   7.48276928e-01,   5.66715824e-03,\n",
       "          7.32607288e-01],\n",
       "       [  3.97276512e-01,   3.86899807e-01,   6.94706315e-01,\n",
       "          8.67865268e-01,   1.88204913e-01,   7.55809790e-01,\n",
       "          4.08667973e-01,   1.35707086e-01,   5.19300881e-01,\n",
       "          8.58782001e-02],\n",
       "       [  7.99557641e-01,   6.71152784e-01,   7.57211668e-01,\n",
       "          3.27946420e-01,   5.21804019e-01,   1.94073751e-01,\n",
       "          1.37152991e-01,   9.76938217e-01,   4.27811764e-02,\n",
       "          8.59345754e-01],\n",
       "       [  3.21161256e-01,   7.41466783e-01,   9.18758024e-01,\n",
       "          6.93905202e-01,   5.89569594e-01,   7.71824015e-01,\n",
       "          9.67889995e-01,   3.15953650e-01,   8.73401949e-01,\n",
       "          9.58787467e-01],\n",
       "       [  7.19065993e-01,   8.07430535e-02,   9.86051254e-01,\n",
       "          6.79687714e-01,   6.26730016e-01,   7.57162511e-01,\n",
       "          5.65899722e-01,   8.98963912e-01,   9.79722557e-01,\n",
       "          6.33009203e-01],\n",
       "       [  7.14091029e-03,   1.29523818e-01,   3.72595698e-01,\n",
       "          9.56154100e-01,   6.37178362e-01,   9.30999255e-01,\n",
       "          5.24460876e-01,   1.00675825e-01,   5.48450825e-01,\n",
       "          9.31656523e-01],\n",
       "       [  4.70978614e-01,   9.23556266e-01,   9.78079451e-01,\n",
       "          3.36130416e-01,   2.12317688e-01,   9.22312607e-01,\n",
       "          3.78458991e-01,   1.59677737e-01,   8.85544307e-01,\n",
       "          8.11787082e-01],\n",
       "       [  8.21709561e-01,   4.02137941e-01,   4.24228709e-01,\n",
       "          8.02150063e-01,   5.52922439e-01,   4.04097537e-01,\n",
       "          7.59779685e-01,   8.79424610e-01,   5.11506313e-01,\n",
       "          4.69688912e-01],\n",
       "       [  1.74469024e-01,   8.91219260e-01,   6.92012885e-01,\n",
       "          9.10459885e-01,   1.74054953e-01,   3.50331417e-01,\n",
       "          2.46740199e-01,   1.27318348e-01,   6.54015705e-01,\n",
       "          5.22997935e-01],\n",
       "       [  4.50641233e-01,   5.78418622e-01,   9.91420784e-01,\n",
       "          5.13215591e-01,   5.97784213e-01,   9.22549289e-01,\n",
       "          5.82435435e-01,   1.60480112e-01,   8.23849845e-01,\n",
       "          9.35555304e-01],\n",
       "       [  9.11184036e-01,   6.95450245e-01,   9.07886341e-01,\n",
       "          1.07316784e-01,   9.27265386e-01,   8.01875635e-02,\n",
       "          4.54616940e-01,   8.71045688e-01,   2.02690242e-01,\n",
       "          7.77671090e-01],\n",
       "       [  4.41740890e-01,   7.85152868e-01,   6.21382389e-01,\n",
       "          6.73522393e-01,   5.56062107e-01,   1.09821304e-01,\n",
       "          9.89325078e-01,   5.26065158e-01,   9.08474318e-01,\n",
       "          2.07887533e-01],\n",
       "       [  3.16033042e-01,   7.64932611e-01,   9.90367562e-02,\n",
       "          8.85945593e-02,   2.34541255e-01,   7.58281771e-01,\n",
       "          5.14311125e-01,   5.31230061e-01,   2.54631230e-01,\n",
       "          3.48628942e-03],\n",
       "       [  6.60774168e-02,   5.39249276e-02,   8.77172561e-01,\n",
       "          5.90745788e-01,   8.22635869e-02,   3.41932169e-01,\n",
       "          5.01331510e-01,   7.28862282e-01,   2.25949261e-02,\n",
       "          1.62740179e-01],\n",
       "       [  5.08430684e-01,   1.77907663e-01,   8.16389261e-01,\n",
       "          4.59996481e-01,   5.92546283e-01,   6.28063937e-01,\n",
       "          2.68051061e-01,   7.70089969e-01,   5.77766026e-01,\n",
       "          3.48007856e-01],\n",
       "       [  5.75098070e-01,   4.46754717e-01,   1.24271155e-01,\n",
       "          5.10507634e-01,   4.54515405e-01,   6.66705250e-01,\n",
       "          1.91467802e-02,   6.97054982e-01,   2.36577916e-01,\n",
       "          2.26472650e-01],\n",
       "       [  1.02331460e-01,   5.44001389e-01,   8.97419947e-01,\n",
       "          9.99456205e-01,   3.32029856e-01,   9.35939627e-01,\n",
       "          5.37462899e-02,   8.57641870e-01,   1.29000175e-01,\n",
       "          8.55394723e-01],\n",
       "       [  6.27197730e-02,   3.34599963e-01,   3.71946987e-01,\n",
       "          6.33576503e-01,   9.62342603e-01,   1.74147605e-01,\n",
       "          7.72041737e-02,   2.88523988e-01,   4.48091295e-01,\n",
       "          1.05374943e-01],\n",
       "       [  8.59275261e-01,   8.70869357e-02,   9.96828448e-01,\n",
       "          2.80493345e-01,   6.58795117e-01,   8.74878829e-01,\n",
       "          6.03193573e-02,   2.01129584e-01,   7.46117830e-01,\n",
       "          6.28905918e-01]])"
      ]
     },
     "execution_count": 10,
     "metadata": {},
     "output_type": "execute_result"
    }
   ],
   "source": [
    "b = np.random.rand(20,10)\n",
    "va.enable()\n",
    "b"
   ]
  },
  {
   "cell_type": "code",
   "execution_count": 12,
   "metadata": {
    "collapsed": false
   },
   "outputs": [],
   "source": [
    "assert True "
   ]
  },
  {
   "cell_type": "code",
   "execution_count": 13,
   "metadata": {
    "collapsed": false
   },
   "outputs": [
    {
     "data": {
      "text/html": [
       "<style type=\"text/css\">table.blockgrid {border: none;} .blockgrid tr {border: none;} .blockgrid td {padding: 0px;} #blockse616d2ae-ad08-45e3-8013-32f9f38166f2 td {border: 1px solid white;}</style><table id=\"blockse616d2ae-ad08-45e3-8013-32f9f38166f2\" class=\"blockgrid\"><tbody><tr><td title=\"Index: [0, 0]&#10;Color: (201, 221, 240)\" style=\"width: 30px; height: 30px;background-color: rgb(201, 221, 240);\"></td><td title=\"Index: [0, 1]&#10;Color: (154, 200, 224)\" style=\"width: 30px; height: 30px;background-color: rgb(154, 200, 224);\"></td><td title=\"Index: [0, 2]&#10;Color: (21, 98, 169)\" style=\"width: 30px; height: 30px;background-color: rgb(21, 98, 169);\"></td><td title=\"Index: [0, 3]&#10;Color: (8, 52, 113)\" style=\"width: 30px; height: 30px;background-color: rgb(8, 52, 113);\"></td><td title=\"Index: [0, 4]&#10;Color: (35, 115, 182)\" style=\"width: 30px; height: 30px;background-color: rgb(35, 115, 182);\"></td></tr><tr><td title=\"Index: [1, 0]&#10;Color: (48, 128, 189)\" style=\"width: 30px; height: 30px;background-color: rgb(48, 128, 189);\"></td><td title=\"Index: [1, 1]&#10;Color: (227, 238, 249)\" style=\"width: 30px; height: 30px;background-color: rgb(227, 238, 249);\"></td><td title=\"Index: [1, 2]&#10;Color: (153, 199, 224)\" style=\"width: 30px; height: 30px;background-color: rgb(153, 199, 224);\"></td><td title=\"Index: [1, 3]&#10;Color: (8, 71, 141)\" style=\"width: 30px; height: 30px;background-color: rgb(8, 71, 141);\"></td><td title=\"Index: [1, 4]&#10;Color: (65, 145, 198)\" style=\"width: 30px; height: 30px;background-color: rgb(65, 145, 198);\"></td></tr><tr><td title=\"Index: [2, 0]&#10;Color: (235, 243, 251)\" style=\"width: 30px; height: 30px;background-color: rgb(235, 243, 251);\"></td><td title=\"Index: [2, 1]&#10;Color: (114, 178, 216)\" style=\"width: 30px; height: 30px;background-color: rgb(114, 178, 216);\"></td><td title=\"Index: [2, 2]&#10;Color: (171, 208, 230)\" style=\"width: 30px; height: 30px;background-color: rgb(171, 208, 230);\"></td><td title=\"Index: [2, 3]&#10;Color: (176, 210, 231)\" style=\"width: 30px; height: 30px;background-color: rgb(176, 210, 231);\"></td><td title=\"Index: [2, 4]&#10;Color: (235, 243, 251)\" style=\"width: 30px; height: 30px;background-color: rgb(235, 243, 251);\"></td></tr><tr><td title=\"Index: [3, 0]&#10;Color: (204, 223, 241)\" style=\"width: 30px; height: 30px;background-color: rgb(204, 223, 241);\"></td><td title=\"Index: [3, 1]&#10;Color: (198, 219, 239)\" style=\"width: 30px; height: 30px;background-color: rgb(198, 219, 239);\"></td><td title=\"Index: [3, 2]&#10;Color: (209, 226, 243)\" style=\"width: 30px; height: 30px;background-color: rgb(209, 226, 243);\"></td><td title=\"Index: [3, 3]&#10;Color: (165, 205, 227)\" style=\"width: 30px; height: 30px;background-color: rgb(165, 205, 227);\"></td><td title=\"Index: [3, 4]&#10;Color: (8, 68, 136)\" style=\"width: 30px; height: 30px;background-color: rgb(8, 68, 136);\"></td></tr><tr><td title=\"Index: [4, 0]&#10;Color: (16, 91, 164)\" style=\"width: 30px; height: 30px;background-color: rgb(16, 91, 164);\"></td><td title=\"Index: [4, 1]&#10;Color: (181, 212, 233)\" style=\"width: 30px; height: 30px;background-color: rgb(181, 212, 233);\"></td><td title=\"Index: [4, 2]&#10;Color: (8, 77, 150)\" style=\"width: 30px; height: 30px;background-color: rgb(8, 77, 150);\"></td><td title=\"Index: [4, 3]&#10;Color: (8, 49, 109)\" style=\"width: 30px; height: 30px;background-color: rgb(8, 49, 109);\"></td><td title=\"Index: [4, 4]&#10;Color: (10, 83, 158)\" style=\"width: 30px; height: 30px;background-color: rgb(10, 83, 158);\"></td></tr><tr><td title=\"Index: [5, 0]&#10;Color: (92, 164, 208)\" style=\"width: 30px; height: 30px;background-color: rgb(92, 164, 208);\"></td><td title=\"Index: [5, 1]&#10;Color: (8, 78, 152)\" style=\"width: 30px; height: 30px;background-color: rgb(8, 78, 152);\"></td><td title=\"Index: [5, 2]&#10;Color: (66, 146, 198)\" style=\"width: 30px; height: 30px;background-color: rgb(66, 146, 198);\"></td><td title=\"Index: [5, 3]&#10;Color: (105, 173, 213)\" style=\"width: 30px; height: 30px;background-color: rgb(105, 173, 213);\"></td><td title=\"Index: [5, 4]&#10;Color: (236, 244, 251)\" style=\"width: 30px; height: 30px;background-color: rgb(236, 244, 251);\"></td></tr><tr><td title=\"Index: [6, 0]&#10;Color: (8, 49, 109)\" style=\"width: 30px; height: 30px;background-color: rgb(8, 49, 109);\"></td><td title=\"Index: [6, 1]&#10;Color: (153, 199, 224)\" style=\"width: 30px; height: 30px;background-color: rgb(153, 199, 224);\"></td><td title=\"Index: [6, 2]&#10;Color: (208, 226, 242)\" style=\"width: 30px; height: 30px;background-color: rgb(208, 226, 242);\"></td><td title=\"Index: [6, 3]&#10;Color: (59, 139, 194)\" style=\"width: 30px; height: 30px;background-color: rgb(59, 139, 194);\"></td><td title=\"Index: [6, 4]&#10;Color: (117, 180, 216)\" style=\"width: 30px; height: 30px;background-color: rgb(117, 180, 216);\"></td></tr><tr><td title=\"Index: [7, 0]&#10;Color: (26, 104, 174)\" style=\"width: 30px; height: 30px;background-color: rgb(26, 104, 174);\"></td><td title=\"Index: [7, 1]&#10;Color: (35, 115, 182)\" style=\"width: 30px; height: 30px;background-color: rgb(35, 115, 182);\"></td><td title=\"Index: [7, 2]&#10;Color: (141, 193, 221)\" style=\"width: 30px; height: 30px;background-color: rgb(141, 193, 221);\"></td><td title=\"Index: [7, 3]&#10;Color: (8, 61, 127)\" style=\"width: 30px; height: 30px;background-color: rgb(8, 61, 127);\"></td><td title=\"Index: [7, 4]&#10;Color: (193, 217, 237)\" style=\"width: 30px; height: 30px;background-color: rgb(193, 217, 237);\"></td></tr><tr><td title=\"Index: [8, 0]&#10;Color: (15, 90, 163)\" style=\"width: 30px; height: 30px;background-color: rgb(15, 90, 163);\"></td><td title=\"Index: [8, 1]&#10;Color: (43, 123, 186)\" style=\"width: 30px; height: 30px;background-color: rgb(43, 123, 186);\"></td><td title=\"Index: [8, 2]&#10;Color: (20, 96, 168)\" style=\"width: 30px; height: 30px;background-color: rgb(20, 96, 168);\"></td><td title=\"Index: [8, 3]&#10;Color: (75, 152, 202)\" style=\"width: 30px; height: 30px;background-color: rgb(75, 152, 202);\"></td><td title=\"Index: [8, 4]&#10;Color: (184, 213, 234)\" style=\"width: 30px; height: 30px;background-color: rgb(184, 213, 234);\"></td></tr><tr><td title=\"Index: [9, 0]&#10;Color: (8, 50, 110)\" style=\"width: 30px; height: 30px;background-color: rgb(8, 50, 110);\"></td><td title=\"Index: [9, 1]&#10;Color: (8, 60, 125)\" style=\"width: 30px; height: 30px;background-color: rgb(8, 60, 125);\"></td><td title=\"Index: [9, 2]&#10;Color: (86, 160, 206)\" style=\"width: 30px; height: 30px;background-color: rgb(86, 160, 206);\"></td><td title=\"Index: [9, 3]&#10;Color: (106, 174, 214)\" style=\"width: 30px; height: 30px;background-color: rgb(106, 174, 214);\"></td><td title=\"Index: [9, 4]&#10;Color: (179, 211, 232)\" style=\"width: 30px; height: 30px;background-color: rgb(179, 211, 232);\"></td></tr><tr><td title=\"Index: [10, 0]&#10;Color: (8, 74, 145)\" style=\"width: 30px; height: 30px;background-color: rgb(8, 74, 145);\"></td><td title=\"Index: [10, 1]&#10;Color: (164, 204, 227)\" style=\"width: 30px; height: 30px;background-color: rgb(164, 204, 227);\"></td><td title=\"Index: [10, 2]&#10;Color: (247, 251, 255)\" style=\"width: 30px; height: 30px;background-color: rgb(247, 251, 255);\"></td><td title=\"Index: [10, 3]&#10;Color: (50, 130, 190)\" style=\"width: 30px; height: 30px;background-color: rgb(50, 130, 190);\"></td><td title=\"Index: [10, 4]&#10;Color: (93, 165, 209)\" style=\"width: 30px; height: 30px;background-color: rgb(93, 165, 209);\"></td></tr><tr><td title=\"Index: [11, 0]&#10;Color: (26, 104, 174)\" style=\"width: 30px; height: 30px;background-color: rgb(26, 104, 174);\"></td><td title=\"Index: [11, 1]&#10;Color: (8, 65, 132)\" style=\"width: 30px; height: 30px;background-color: rgb(8, 65, 132);\"></td><td title=\"Index: [11, 2]&#10;Color: (211, 227, 243)\" style=\"width: 30px; height: 30px;background-color: rgb(211, 227, 243);\"></td><td title=\"Index: [11, 3]&#10;Color: (127, 185, 218)\" style=\"width: 30px; height: 30px;background-color: rgb(127, 185, 218);\"></td><td title=\"Index: [11, 4]&#10;Color: (171, 208, 230)\" style=\"width: 30px; height: 30px;background-color: rgb(171, 208, 230);\"></td></tr><tr><td title=\"Index: [12, 0]&#10;Color: (60, 140, 195)\" style=\"width: 30px; height: 30px;background-color: rgb(60, 140, 195);\"></td><td title=\"Index: [12, 1]&#10;Color: (88, 161, 207)\" style=\"width: 30px; height: 30px;background-color: rgb(88, 161, 207);\"></td><td title=\"Index: [12, 2]&#10;Color: (132, 188, 219)\" style=\"width: 30px; height: 30px;background-color: rgb(132, 188, 219);\"></td><td title=\"Index: [12, 3]&#10;Color: (29, 108, 177)\" style=\"width: 30px; height: 30px;background-color: rgb(29, 108, 177);\"></td><td title=\"Index: [12, 4]&#10;Color: (10, 84, 158)\" style=\"width: 30px; height: 30px;background-color: rgb(10, 84, 158);\"></td></tr><tr><td title=\"Index: [13, 0]&#10;Color: (8, 78, 152)\" style=\"width: 30px; height: 30px;background-color: rgb(8, 78, 152);\"></td><td title=\"Index: [13, 1]&#10;Color: (81, 156, 204)\" style=\"width: 30px; height: 30px;background-color: rgb(81, 156, 204);\"></td><td title=\"Index: [13, 2]&#10;Color: (10, 83, 158)\" style=\"width: 30px; height: 30px;background-color: rgb(10, 83, 158);\"></td><td title=\"Index: [13, 3]&#10;Color: (203, 222, 241)\" style=\"width: 30px; height: 30px;background-color: rgb(203, 222, 241);\"></td><td title=\"Index: [13, 4]&#10;Color: (8, 55, 118)\" style=\"width: 30px; height: 30px;background-color: rgb(8, 55, 118);\"></td></tr><tr><td title=\"Index: [14, 0]&#10;Color: (63, 143, 197)\" style=\"width: 30px; height: 30px;background-color: rgb(63, 143, 197);\"></td><td title=\"Index: [14, 1]&#10;Color: (8, 81, 156)\" style=\"width: 30px; height: 30px;background-color: rgb(8, 81, 156);\"></td><td title=\"Index: [14, 2]&#10;Color: (237, 244, 252)\" style=\"width: 30px; height: 30px;background-color: rgb(237, 244, 252);\"></td><td title=\"Index: [14, 3]&#10;Color: (60, 140, 195)\" style=\"width: 30px; height: 30px;background-color: rgb(60, 140, 195);\"></td><td title=\"Index: [14, 4]&#10;Color: (47, 127, 188)\" style=\"width: 30px; height: 30px;background-color: rgb(47, 127, 188);\"></td></tr><tr><td title=\"Index: [15, 0]&#10;Color: (23, 100, 171)\" style=\"width: 30px; height: 30px;background-color: rgb(23, 100, 171);\"></td><td title=\"Index: [15, 1]&#10;Color: (191, 216, 237)\" style=\"width: 30px; height: 30px;background-color: rgb(191, 216, 237);\"></td><td title=\"Index: [15, 2]&#10;Color: (240, 246, 253)\" style=\"width: 30px; height: 30px;background-color: rgb(240, 246, 253);\"></td><td title=\"Index: [15, 3]&#10;Color: (97, 167, 210)\" style=\"width: 30px; height: 30px;background-color: rgb(97, 167, 210);\"></td><td title=\"Index: [15, 4]&#10;Color: (193, 217, 237)\" style=\"width: 30px; height: 30px;background-color: rgb(193, 217, 237);\"></td></tr><tr><td title=\"Index: [16, 0]&#10;Color: (8, 80, 155)\" style=\"width: 30px; height: 30px;background-color: rgb(8, 80, 155);\"></td><td title=\"Index: [16, 1]&#10;Color: (137, 190, 220)\" style=\"width: 30px; height: 30px;background-color: rgb(137, 190, 220);\"></td><td title=\"Index: [16, 2]&#10;Color: (201, 221, 240)\" style=\"width: 30px; height: 30px;background-color: rgb(201, 221, 240);\"></td><td title=\"Index: [16, 3]&#10;Color: (16, 91, 164)\" style=\"width: 30px; height: 30px;background-color: rgb(16, 91, 164);\"></td><td title=\"Index: [16, 4]&#10;Color: (208, 225, 242)\" style=\"width: 30px; height: 30px;background-color: rgb(208, 225, 242);\"></td></tr><tr><td title=\"Index: [17, 0]&#10;Color: (55, 135, 192)\" style=\"width: 30px; height: 30px;background-color: rgb(55, 135, 192);\"></td><td title=\"Index: [17, 1]&#10;Color: (176, 210, 231)\" style=\"width: 30px; height: 30px;background-color: rgb(176, 210, 231);\"></td><td title=\"Index: [17, 2]&#10;Color: (8, 80, 155)\" style=\"width: 30px; height: 30px;background-color: rgb(8, 80, 155);\"></td><td title=\"Index: [17, 3]&#10;Color: (93, 165, 209)\" style=\"width: 30px; height: 30px;background-color: rgb(93, 165, 209);\"></td><td title=\"Index: [17, 4]&#10;Color: (8, 78, 152)\" style=\"width: 30px; height: 30px;background-color: rgb(8, 78, 152);\"></td></tr><tr><td title=\"Index: [18, 0]&#10;Color: (32, 111, 180)\" style=\"width: 30px; height: 30px;background-color: rgb(32, 111, 180);\"></td><td title=\"Index: [18, 1]&#10;Color: (25, 102, 173)\" style=\"width: 30px; height: 30px;background-color: rgb(25, 102, 173);\"></td><td title=\"Index: [18, 2]&#10;Color: (130, 187, 219)\" style=\"width: 30px; height: 30px;background-color: rgb(130, 187, 219);\"></td><td title=\"Index: [18, 3]&#10;Color: (223, 235, 247)\" style=\"width: 30px; height: 30px;background-color: rgb(223, 235, 247);\"></td><td title=\"Index: [18, 4]&#10;Color: (8, 48, 107)\" style=\"width: 30px; height: 30px;background-color: rgb(8, 48, 107);\"></td></tr><tr><td title=\"Index: [19, 0]&#10;Color: (226, 237, 248)\" style=\"width: 30px; height: 30px;background-color: rgb(226, 237, 248);\"></td><td title=\"Index: [19, 1]&#10;Color: (81, 156, 204)\" style=\"width: 30px; height: 30px;background-color: rgb(81, 156, 204);\"></td><td title=\"Index: [19, 2]&#10;Color: (8, 48, 107)\" style=\"width: 30px; height: 30px;background-color: rgb(8, 48, 107);\"></td><td title=\"Index: [19, 3]&#10;Color: (25, 103, 173)\" style=\"width: 30px; height: 30px;background-color: rgb(25, 103, 173);\"></td><td title=\"Index: [19, 4]&#10;Color: (69, 148, 199)\" style=\"width: 30px; height: 30px;background-color: rgb(69, 148, 199);\"></td></tr><tr><td title=\"Index: [20, 0]&#10;Color: (88, 161, 207)\" style=\"width: 30px; height: 30px;background-color: rgb(88, 161, 207);\"></td><td title=\"Index: [20, 1]&#10;Color: (8, 59, 124)\" style=\"width: 30px; height: 30px;background-color: rgb(8, 59, 124);\"></td><td title=\"Index: [20, 2]&#10;Color: (101, 170, 212)\" style=\"width: 30px; height: 30px;background-color: rgb(101, 170, 212);\"></td><td title=\"Index: [20, 3]&#10;Color: (202, 221, 240)\" style=\"width: 30px; height: 30px;background-color: rgb(202, 221, 240);\"></td><td title=\"Index: [20, 4]&#10;Color: (51, 131, 190)\" style=\"width: 30px; height: 30px;background-color: rgb(51, 131, 190);\"></td></tr><tr><td title=\"Index: [21, 0]&#10;Color: (246, 250, 255)\" style=\"width: 30px; height: 30px;background-color: rgb(246, 250, 255);\"></td><td title=\"Index: [21, 1]&#10;Color: (222, 235, 247)\" style=\"width: 30px; height: 30px;background-color: rgb(222, 235, 247);\"></td><td title=\"Index: [21, 2]&#10;Color: (60, 140, 195)\" style=\"width: 30px; height: 30px;background-color: rgb(60, 140, 195);\"></td><td title=\"Index: [21, 3]&#10;Color: (10, 84, 158)\" style=\"width: 30px; height: 30px;background-color: rgb(10, 84, 158);\"></td><td title=\"Index: [21, 4]&#10;Color: (227, 238, 248)\" style=\"width: 30px; height: 30px;background-color: rgb(227, 238, 248);\"></td></tr><tr><td title=\"Index: [22, 0]&#10;Color: (228, 239, 249)\" style=\"width: 30px; height: 30px;background-color: rgb(228, 239, 249);\"></td><td title=\"Index: [22, 1]&#10;Color: (146, 196, 222)\" style=\"width: 30px; height: 30px;background-color: rgb(146, 196, 222);\"></td><td title=\"Index: [22, 2]&#10;Color: (211, 228, 243)\" style=\"width: 30px; height: 30px;background-color: rgb(211, 228, 243);\"></td><td title=\"Index: [22, 3]&#10;Color: (135, 189, 220)\" style=\"width: 30px; height: 30px;background-color: rgb(135, 189, 220);\"></td><td title=\"Index: [22, 4]&#10;Color: (208, 225, 242)\" style=\"width: 30px; height: 30px;background-color: rgb(208, 225, 242);\"></td></tr><tr><td title=\"Index: [23, 0]&#10;Color: (231, 240, 250)\" style=\"width: 30px; height: 30px;background-color: rgb(231, 240, 250);\"></td><td title=\"Index: [23, 1]&#10;Color: (140, 192, 221)\" style=\"width: 30px; height: 30px;background-color: rgb(140, 192, 221);\"></td><td title=\"Index: [23, 2]&#10;Color: (8, 59, 124)\" style=\"width: 30px; height: 30px;background-color: rgb(8, 59, 124);\"></td><td title=\"Index: [23, 3]&#10;Color: (212, 228, 244)\" style=\"width: 30px; height: 30px;background-color: rgb(212, 228, 244);\"></td><td title=\"Index: [23, 4]&#10;Color: (151, 198, 223)\" style=\"width: 30px; height: 30px;background-color: rgb(151, 198, 223);\"></td></tr><tr><td title=\"Index: [24, 0]&#10;Color: (41, 121, 185)\" style=\"width: 30px; height: 30px;background-color: rgb(41, 121, 185);\"></td><td title=\"Index: [24, 1]&#10;Color: (214, 229, 244)\" style=\"width: 30px; height: 30px;background-color: rgb(214, 229, 244);\"></td><td title=\"Index: [24, 2]&#10;Color: (17, 92, 165)\" style=\"width: 30px; height: 30px;background-color: rgb(17, 92, 165);\"></td><td title=\"Index: [24, 3]&#10;Color: (30, 109, 178)\" style=\"width: 30px; height: 30px;background-color: rgb(30, 109, 178);\"></td><td title=\"Index: [24, 4]&#10;Color: (148, 196, 223)\" style=\"width: 30px; height: 30px;background-color: rgb(148, 196, 223);\"></td></tr><tr><td title=\"Index: [25, 0]&#10;Color: (54, 134, 192)\" style=\"width: 30px; height: 30px;background-color: rgb(54, 134, 192);\"></td><td title=\"Index: [25, 1]&#10;Color: (132, 188, 219)\" style=\"width: 30px; height: 30px;background-color: rgb(132, 188, 219);\"></td><td title=\"Index: [25, 2]&#10;Color: (170, 207, 229)\" style=\"width: 30px; height: 30px;background-color: rgb(170, 207, 229);\"></td><td title=\"Index: [25, 3]&#10;Color: (199, 219, 239)\" style=\"width: 30px; height: 30px;background-color: rgb(199, 219, 239);\"></td><td title=\"Index: [25, 4]&#10;Color: (190, 216, 236)\" style=\"width: 30px; height: 30px;background-color: rgb(190, 216, 236);\"></td></tr><tr><td title=\"Index: [26, 0]&#10;Color: (129, 186, 219)\" style=\"width: 30px; height: 30px;background-color: rgb(129, 186, 219);\"></td><td title=\"Index: [26, 1]&#10;Color: (75, 152, 202)\" style=\"width: 30px; height: 30px;background-color: rgb(75, 152, 202);\"></td><td title=\"Index: [26, 2]&#10;Color: (61, 141, 196)\" style=\"width: 30px; height: 30px;background-color: rgb(61, 141, 196);\"></td><td title=\"Index: [26, 3]&#10;Color: (69, 148, 199)\" style=\"width: 30px; height: 30px;background-color: rgb(69, 148, 199);\"></td><td title=\"Index: [26, 4]&#10;Color: (8, 67, 135)\" style=\"width: 30px; height: 30px;background-color: rgb(8, 67, 135);\"></td></tr></tbody></table>"
      ],
      "text/plain": [
       "array([[ 0.23546528,  0.38194283,  0.79800028,  0.97387939,  0.73176348],\n",
       "       [ 0.68588397,  0.10106428,  0.38554337,  0.90210585,  0.62094435],\n",
       "       [ 0.06269289,  0.47724455,  0.33254542,  0.31666913,  0.060168  ],\n",
       "       [ 0.22107185,  0.2493889 ,  0.1923531 ,  0.34990729,  0.91453395],\n",
       "       [ 0.82714793,  0.30205714,  0.88140631,  0.9850664 ,  0.8566092 ],\n",
       "       [ 0.53905648,  0.87454667,  0.61875544,  0.50099624,  0.05704813],\n",
       "       [ 0.98503667,  0.38423319,  0.19516083,  0.64428367,  0.47027007],\n",
       "       [ 0.77411067,  0.73258331,  0.41394452,  0.93983072,  0.26512783],\n",
       "       [ 0.83081707,  0.70491207,  0.80551293,  0.59020355,  0.29148556],\n",
       "       [ 0.98211036,  0.94097146,  0.56015595,  0.49605877,  0.30889935],\n",
       "       [ 0.89020643,  0.3544029 ,  0.0019451 ,  0.68091545,  0.53625678],\n",
       "       [ 0.7772713 ,  0.92459002,  0.18362826,  0.44756236,  0.33234392],\n",
       "       [ 0.64256905,  0.55391174,  0.43490264,  0.76130667,  0.85303483],\n",
       "       [ 0.87512249,  0.57555076,  0.8561395 ,  0.22352862,  0.961531  ],\n",
       "       [ 0.63002252,  0.86366721,  0.05214035,  0.64087906,  0.69285897],\n",
       "       [ 0.79221627,  0.27045949,  0.04012383,  0.52542458,  0.26528212],\n",
       "       [ 0.87007848,  0.42460954,  0.23708572,  0.82662076,  0.19967335],\n",
       "       [ 0.66143082,  0.31748453,  0.86890064,  0.53542989,  0.87661097],\n",
       "       [ 0.75077417,  0.78300828,  0.43864059,  0.12502812,  0.98721567],\n",
       "       [ 0.10985143,  0.57630233,  0.99011503,  0.78150901,  0.61173191],\n",
       "       [ 0.55385335,  0.94452036,  0.51197175,  0.23330423,  0.67724686],\n",
       "       [ 0.00696727,  0.12591069,  0.64254869,  0.85392136,  0.10291004],\n",
       "       [ 0.09765536,  0.40050563,  0.18319663,  0.42692728,  0.20011141],\n",
       "       [ 0.08528847,  0.41506503,  0.94606086,  0.17621086,  0.39170129],\n",
       "       [ 0.71238325,  0.16942512,  0.82167551,  0.75482374,  0.39737032],\n",
       "       [ 0.66544486,  0.43506118,  0.33684107,  0.24834622,  0.27306525],\n",
       "       [ 0.44314238,  0.59213347,  0.6384259 ,  0.60824937,  0.91867311]])"
      ]
     },
     "execution_count": 13,
     "metadata": {},
     "output_type": "execute_result"
    }
   ],
   "source": [
    "v = np.random.rand(27,5)\n",
    "va.enable()\n",
    "v"
   ]
  },
  {
   "cell_type": "code",
   "execution_count": null,
   "metadata": {
    "collapsed": true
   },
   "outputs": [],
   "source": []
  },
  {
   "cell_type": "code",
   "execution_count": null,
   "metadata": {
    "collapsed": true
   },
   "outputs": [],
   "source": []
  },
  {
   "cell_type": "code",
   "execution_count": null,
   "metadata": {
    "collapsed": true
   },
   "outputs": [],
   "source": []
  },
  {
   "cell_type": "code",
   "execution_count": null,
   "metadata": {
    "collapsed": true
   },
   "outputs": [],
   "source": []
  },
  {
   "cell_type": "code",
   "execution_count": null,
   "metadata": {
    "collapsed": true
   },
   "outputs": [],
   "source": []
  },
  {
   "cell_type": "code",
   "execution_count": null,
   "metadata": {
    "collapsed": true
   },
   "outputs": [],
   "source": []
  },
  {
   "cell_type": "code",
   "execution_count": null,
   "metadata": {
    "collapsed": true
   },
   "outputs": [],
   "source": []
  },
  {
   "cell_type": "code",
   "execution_count": null,
   "metadata": {
    "collapsed": true
   },
   "outputs": [],
   "source": []
  },
  {
   "cell_type": "code",
   "execution_count": null,
   "metadata": {
    "collapsed": true
   },
   "outputs": [],
   "source": []
  },
  {
   "cell_type": "code",
   "execution_count": null,
   "metadata": {
    "collapsed": true
   },
   "outputs": [],
   "source": []
  },
  {
   "cell_type": "code",
   "execution_count": null,
   "metadata": {
    "collapsed": true
   },
   "outputs": [],
   "source": []
  },
  {
   "cell_type": "code",
   "execution_count": null,
   "metadata": {
    "collapsed": true
   },
   "outputs": [],
   "source": []
  },
  {
   "cell_type": "code",
   "execution_count": null,
   "metadata": {
    "collapsed": true
   },
   "outputs": [],
   "source": []
  },
  {
   "cell_type": "code",
   "execution_count": null,
   "metadata": {
    "collapsed": true
   },
   "outputs": [],
   "source": []
  },
  {
   "cell_type": "code",
   "execution_count": null,
   "metadata": {
    "collapsed": true
   },
   "outputs": [],
   "source": []
  },
  {
   "cell_type": "code",
   "execution_count": null,
   "metadata": {
    "collapsed": true
   },
   "outputs": [],
   "source": []
  },
  {
   "cell_type": "code",
   "execution_count": null,
   "metadata": {
    "collapsed": true
   },
   "outputs": [],
   "source": []
  },
  {
   "cell_type": "code",
   "execution_count": null,
   "metadata": {
    "collapsed": true
   },
   "outputs": [],
   "source": []
  },
  {
   "cell_type": "code",
   "execution_count": null,
   "metadata": {
    "collapsed": true
   },
   "outputs": [],
   "source": []
  },
  {
   "cell_type": "code",
   "execution_count": null,
   "metadata": {
    "collapsed": true
   },
   "outputs": [],
   "source": []
  },
  {
   "cell_type": "code",
   "execution_count": null,
   "metadata": {
    "collapsed": true
   },
   "outputs": [],
   "source": []
  },
  {
   "cell_type": "code",
   "execution_count": null,
   "metadata": {
    "collapsed": true
   },
   "outputs": [],
   "source": []
  },
  {
   "cell_type": "code",
   "execution_count": null,
   "metadata": {
    "collapsed": true
   },
   "outputs": [],
   "source": []
  },
  {
   "cell_type": "code",
   "execution_count": null,
   "metadata": {
    "collapsed": true
   },
   "outputs": [],
   "source": []
  }
 ],
 "metadata": {
  "kernelspec": {
   "display_name": "Python 2",
   "language": "python",
   "name": "python2"
  },
  "language_info": {
   "codemirror_mode": {
    "name": "ipython",
    "version": 2
   },
   "file_extension": ".py",
   "mimetype": "text/x-python",
   "name": "python",
   "nbconvert_exporter": "python",
   "pygments_lexer": "ipython2",
   "version": "2.7.6"
  }
 },
 "nbformat": 4,
 "nbformat_minor": 0
}
