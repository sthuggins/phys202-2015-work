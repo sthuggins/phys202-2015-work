{
 "cells": [
  {
   "cell_type": "markdown",
   "metadata": {
    "nbgrader": {}
   },
   "source": [
    "# Numpy Exercise 1"
   ]
  },
  {
   "cell_type": "markdown",
   "metadata": {
    "nbgrader": {}
   },
   "source": [
    "## Imports"
   ]
  },
  {
   "cell_type": "code",
   "execution_count": null,
   "metadata": {
    "collapsed": false,
    "nbgrader": {}
   },
   "outputs": [],
   "source": [
    "import numpy as np\n",
    "%matplotlib inline\n",
    "import matplotlib.pyplot as plt\n",
    "import seaborn as sns"
   ]
  },
  {
   "cell_type": "code",
   "execution_count": null,
   "metadata": {
    "collapsed": false,
    "nbgrader": {}
   },
   "outputs": [],
   "source": [
    "import antipackage\n",
    "import github.ellisonbg.misc.vizarray as va"
   ]
  },
  {
   "cell_type": "markdown",
   "metadata": {
    "nbgrader": {}
   },
   "source": [
    "## Checkerboard"
   ]
  },
  {
   "cell_type": "markdown",
   "metadata": {
    "nbgrader": {}
   },
   "source": [
    "Write a Python function that creates a square `(size,size)` 2d Numpy array with the values `0.0` and `1.0`:\n",
    "\n",
    "* Your function should work for both odd and even `size`.\n",
    "* The `0,0` element should be `1.0`.\n",
    "* The `dtype` should be `float`."
   ]
  },
  {
   "cell_type": "code",
   "execution_count": null,
   "metadata": {
    "collapsed": false,
    "nbgrader": {
     "checksum": "752eb79a174f018a88efdcf68249ecf6",
     "solution": true
    }
   },
   "outputs": [],
   "source": [
    "def checkerboard(size):\n",
    "    \"\"\"Return a 2d checkboard of 0.0 and 1.0 as a NumPy array\"\"\"\n",
    "    \n",
    "    \n",
    "    \n",
    "    # YOUR CODE HERE\n",
    "    raise NotImplementedError()"
   ]
  },
  {
   "cell_type": "code",
   "execution_count": null,
   "metadata": {
    "collapsed": false,
    "deletable": false,
    "nbgrader": {
     "checksum": "a9259a1539798dd06c53d4699e5b89b7",
     "grade": true,
     "grade_id": "numpyex01a",
     "points": 6
    }
   },
   "outputs": [],
   "source": [
    "a = checkerboard(4)\n",
    "assert a[0,0]==1.0\n",
    "assert a.sum()==8.0\n",
    "assert a.dtype==np.dtype(float)\n",
    "assert np.all(a[0,0:5:2]==1.0)\n",
    "assert np.all(a[1,0:5:2]==0.0)\n",
    "\n",
    "b = checkerboard(5)\n",
    "assert b[0,0]==1.0\n",
    "assert b.sum()==13.0\n",
    "assert np.all(b.ravel()[0:26:2]==1.0)\n",
    "assert np.all(b.ravel()[1:25:2]==0.0)"
   ]
  },
  {
   "cell_type": "markdown",
   "metadata": {
    "nbgrader": {}
   },
   "source": [
    "Use `vizarray` to visualize a checkerboard of `size=20` with a block size of `10px`."
   ]
  },
  {
   "cell_type": "code",
   "execution_count": null,
   "metadata": {
    "collapsed": false,
    "deletable": false,
    "nbgrader": {
     "checksum": "6cff4e8e53b15273846c3aecaea84a3d",
     "solution": true
    }
   },
   "outputs": [],
   "source": [
    "# YOUR CODE HERE\n",
    "raise NotImplementedError()"
   ]
  },
  {
   "cell_type": "code",
   "execution_count": null,
   "metadata": {
    "collapsed": true,
    "deletable": false,
    "nbgrader": {
     "checksum": "e2b72320a52fdce32f4c88bdaa78a92a",
     "grade": true,
     "grade_id": "numpyex01b",
     "points": 2
    }
   },
   "outputs": [],
   "source": [
    "assert True"
   ]
  },
  {
   "cell_type": "markdown",
   "metadata": {
    "nbgrader": {}
   },
   "source": [
    "Use `vizarray` to visualize a checkerboard of `size=27` with a block size of `5px`."
   ]
  },
  {
   "cell_type": "code",
   "execution_count": null,
   "metadata": {
    "collapsed": false,
    "deletable": false,
    "nbgrader": {
     "checksum": "6cff4e8e53b15273846c3aecaea84a3d",
     "solution": true
    }
   },
   "outputs": [],
   "source": [
    "# YOUR CODE HERE\n",
    "raise NotImplementedError()"
   ]
  },
  {
   "cell_type": "code",
   "execution_count": null,
   "metadata": {
    "collapsed": true,
    "deletable": false,
    "nbgrader": {
     "checksum": "1f1c7ef9e0b2d19d4290ed461d43ff2c",
     "grade": true,
     "grade_id": "numpyex01c",
     "points": 2
    }
   },
   "outputs": [],
   "source": [
    "assert True"
   ]
  }
 ],
 "metadata": {
  "kernelspec": {
   "display_name": "Python 2",
   "language": "python",
   "name": "python2"
  },
  "language_info": {
   "codemirror_mode": {
    "name": "ipython",
    "version": 2
   },
   "file_extension": ".py",
   "mimetype": "text/x-python",
   "name": "python",
   "nbconvert_exporter": "python",
   "pygments_lexer": "ipython2",
   "version": "2.7.6"
  }
 },
 "nbformat": 4,
 "nbformat_minor": 0
}
